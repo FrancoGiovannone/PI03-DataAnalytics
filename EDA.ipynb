{
 "cells": [
  {
   "attachments": {},
   "cell_type": "markdown",
   "metadata": {},
   "source": [
    "Rol a desarrollar:\n",
    "\n",
    "Nuestra PM se dirigió a nosotros con un nuevo ticket de trabajo. Una startup de tecnología está interesada en sumarse al mercado de cursos online, pero de una manera eficiente, por lo que compró datasets de posibles competidores para analizar y sacar conclusiones de los datos recolectados.\n",
    "\n",
    "Ellos solicitan segmentar los el nivel de ventas según precio, idioma, nivel y rating de cada curso para analizar qué tanto influyen dichas variables en la demanda del producto vendido."
   ]
  },
  {
   "cell_type": "code",
   "execution_count": 1,
   "metadata": {},
   "outputs": [],
   "source": [
    "#Importo las librerias que voy a usar\n",
    "import pandas as pd\n",
    "import numpy as np\n",
    "import matplotlib.pyplot as plt\n",
    "import seaborn as sns"
   ]
  },
  {
   "cell_type": "code",
   "execution_count": 2,
   "metadata": {},
   "outputs": [],
   "source": [
    "#Importo los datasets"
   ]
  },
  {
   "cell_type": "code",
   "execution_count": 3,
   "metadata": {},
   "outputs": [],
   "source": [
    "coursera_courses = pd.read_csv(\"C:/Users/franc/OneDrive/Escritorio/HENRY/PI03-Analytics/Datasets/Coursera_courses.csv\")"
   ]
  },
  {
   "cell_type": "code",
   "execution_count": 4,
   "metadata": {},
   "outputs": [],
   "source": [
    "coursera_reviews = pd.read_csv(\"C:/Users/franc/OneDrive/Escritorio/HENRY/PI03-Analytics/Datasets/Coursera_reviews.csv\")"
   ]
  },
  {
   "cell_type": "code",
   "execution_count": 5,
   "metadata": {},
   "outputs": [],
   "source": [
    "edx = pd.read_csv(\"C:/Users/franc/OneDrive/Escritorio/HENRY/PI03-Analytics/Datasets/edx_courses.csv\")"
   ]
  },
  {
   "cell_type": "code",
   "execution_count": 6,
   "metadata": {},
   "outputs": [],
   "source": [
    "udemy = pd.read_csv(\"C:/Users/franc/OneDrive/Escritorio/HENRY/PI03-Analytics/Datasets/udemy_courses.csv\")"
   ]
  },
  {
   "cell_type": "code",
   "execution_count": 7,
   "metadata": {},
   "outputs": [
    {
     "data": {
      "text/html": [
       "<div>\n",
       "<style scoped>\n",
       "    .dataframe tbody tr th:only-of-type {\n",
       "        vertical-align: middle;\n",
       "    }\n",
       "\n",
       "    .dataframe tbody tr th {\n",
       "        vertical-align: top;\n",
       "    }\n",
       "\n",
       "    .dataframe thead th {\n",
       "        text-align: right;\n",
       "    }\n",
       "</style>\n",
       "<table border=\"1\" class=\"dataframe\">\n",
       "  <thead>\n",
       "    <tr style=\"text-align: right;\">\n",
       "      <th></th>\n",
       "      <th>reviews</th>\n",
       "      <th>reviewers</th>\n",
       "      <th>date_reviews</th>\n",
       "      <th>rating</th>\n",
       "      <th>course_id</th>\n",
       "    </tr>\n",
       "  </thead>\n",
       "  <tbody>\n",
       "    <tr>\n",
       "      <th>31</th>\n",
       "      <td>Solid presentation all the way through. I real...</td>\n",
       "      <td>By Logan D</td>\n",
       "      <td>Sep 03, 2020</td>\n",
       "      <td>5</td>\n",
       "      <td>google-cbrs-cpi-training</td>\n",
       "    </tr>\n",
       "    <tr>\n",
       "      <th>32</th>\n",
       "      <td>Probably the best certification course I've ta...</td>\n",
       "      <td>By Luis M C</td>\n",
       "      <td>Nov 21, 2019</td>\n",
       "      <td>5</td>\n",
       "      <td>google-cbrs-cpi-training</td>\n",
       "    </tr>\n",
       "    <tr>\n",
       "      <th>33</th>\n",
       "      <td>The ProctorU.com system took 2 times the amoun...</td>\n",
       "      <td>By scott w</td>\n",
       "      <td>Sep 28, 2020</td>\n",
       "      <td>5</td>\n",
       "      <td>google-cbrs-cpi-training</td>\n",
       "    </tr>\n",
       "    <tr>\n",
       "      <th>34</th>\n",
       "      <td>Covered all of the required information in an ...</td>\n",
       "      <td>By Ryan H</td>\n",
       "      <td>Aug 26, 2019</td>\n",
       "      <td>5</td>\n",
       "      <td>google-cbrs-cpi-training</td>\n",
       "    </tr>\n",
       "    <tr>\n",
       "      <th>35</th>\n",
       "      <td>Great course, lectures were straight forward a...</td>\n",
       "      <td>By Samuel D</td>\n",
       "      <td>Jan 24, 2020</td>\n",
       "      <td>5</td>\n",
       "      <td>google-cbrs-cpi-training</td>\n",
       "    </tr>\n",
       "    <tr>\n",
       "      <th>...</th>\n",
       "      <td>...</td>\n",
       "      <td>...</td>\n",
       "      <td>...</td>\n",
       "      <td>...</td>\n",
       "      <td>...</td>\n",
       "    </tr>\n",
       "    <tr>\n",
       "      <th>1454706</th>\n",
       "      <td>g</td>\n",
       "      <td>By Brijesh K</td>\n",
       "      <td>Aug 25, 2020</td>\n",
       "      <td>5</td>\n",
       "      <td>computer-networking</td>\n",
       "    </tr>\n",
       "    <tr>\n",
       "      <th>1454707</th>\n",
       "      <td>.</td>\n",
       "      <td>By Vasavi V M</td>\n",
       "      <td>Jul 02, 2020</td>\n",
       "      <td>5</td>\n",
       "      <td>computer-networking</td>\n",
       "    </tr>\n",
       "    <tr>\n",
       "      <th>1454708</th>\n",
       "      <td>.</td>\n",
       "      <td>By Drishti D</td>\n",
       "      <td>Jun 20, 2020</td>\n",
       "      <td>5</td>\n",
       "      <td>computer-networking</td>\n",
       "    </tr>\n",
       "    <tr>\n",
       "      <th>1454709</th>\n",
       "      <td>.</td>\n",
       "      <td>By FAUSTINE F K</td>\n",
       "      <td>Jun 07, 2020</td>\n",
       "      <td>5</td>\n",
       "      <td>computer-networking</td>\n",
       "    </tr>\n",
       "    <tr>\n",
       "      <th>1454710</th>\n",
       "      <td>G</td>\n",
       "      <td>By Reza S</td>\n",
       "      <td>Aug 12, 2018</td>\n",
       "      <td>5</td>\n",
       "      <td>computer-networking</td>\n",
       "    </tr>\n",
       "  </tbody>\n",
       "</table>\n",
       "<p>934764 rows × 5 columns</p>\n",
       "</div>"
      ],
      "text/plain": [
       "                                                   reviews        reviewers  \\\n",
       "31       Solid presentation all the way through. I real...       By Logan D   \n",
       "32       Probably the best certification course I've ta...      By Luis M C   \n",
       "33       The ProctorU.com system took 2 times the amoun...       By scott w   \n",
       "34       Covered all of the required information in an ...        By Ryan H   \n",
       "35       Great course, lectures were straight forward a...      By Samuel D   \n",
       "...                                                    ...              ...   \n",
       "1454706                                                  g     By Brijesh K   \n",
       "1454707                                                  .    By Vasavi V M   \n",
       "1454708                                                  .     By Drishti D   \n",
       "1454709                                                  .  By FAUSTINE F K   \n",
       "1454710                                                  G        By Reza S   \n",
       "\n",
       "         date_reviews  rating                 course_id  \n",
       "31       Sep 03, 2020       5  google-cbrs-cpi-training  \n",
       "32       Nov 21, 2019       5  google-cbrs-cpi-training  \n",
       "33       Sep 28, 2020       5  google-cbrs-cpi-training  \n",
       "34       Aug 26, 2019       5  google-cbrs-cpi-training  \n",
       "35       Jan 24, 2020       5  google-cbrs-cpi-training  \n",
       "...               ...     ...                       ...  \n",
       "1454706  Aug 25, 2020       5       computer-networking  \n",
       "1454707  Jul 02, 2020       5       computer-networking  \n",
       "1454708  Jun 20, 2020       5       computer-networking  \n",
       "1454709  Jun 07, 2020       5       computer-networking  \n",
       "1454710  Aug 12, 2018       5       computer-networking  \n",
       "\n",
       "[934764 rows x 5 columns]"
      ]
     },
     "execution_count": 7,
     "metadata": {},
     "output_type": "execute_result"
    }
   ],
   "source": [
    "coursera_reviews[coursera_reviews.duplicated()]"
   ]
  },
  {
   "cell_type": "code",
   "execution_count": 8,
   "metadata": {},
   "outputs": [],
   "source": [
    "#Elimino los duplicados de coursera_reviews\n",
    "coursera_reviews.drop_duplicates(inplace = True)"
   ]
  },
  {
   "cell_type": "code",
   "execution_count": 9,
   "metadata": {},
   "outputs": [
    {
     "name": "stdout",
     "output_type": "stream",
     "text": [
      "<class 'pandas.core.frame.DataFrame'>\n",
      "Int64Index: 519947 entries, 0 to 1454644\n",
      "Data columns (total 5 columns):\n",
      " #   Column        Non-Null Count   Dtype \n",
      "---  ------        --------------   ----- \n",
      " 0   reviews       519891 non-null  object\n",
      " 1   reviewers     519947 non-null  object\n",
      " 2   date_reviews  519947 non-null  object\n",
      " 3   rating        519947 non-null  int64 \n",
      " 4   course_id     519947 non-null  object\n",
      "dtypes: int64(1), object(4)\n",
      "memory usage: 23.8+ MB\n"
     ]
    }
   ],
   "source": [
    "coursera_reviews.info()"
   ]
  },
  {
   "cell_type": "code",
   "execution_count": 10,
   "metadata": {},
   "outputs": [
    {
     "data": {
      "text/html": [
       "<div>\n",
       "<style scoped>\n",
       "    .dataframe tbody tr th:only-of-type {\n",
       "        vertical-align: middle;\n",
       "    }\n",
       "\n",
       "    .dataframe tbody tr th {\n",
       "        vertical-align: top;\n",
       "    }\n",
       "\n",
       "    .dataframe thead th {\n",
       "        text-align: right;\n",
       "    }\n",
       "</style>\n",
       "<table border=\"1\" class=\"dataframe\">\n",
       "  <thead>\n",
       "    <tr style=\"text-align: right;\">\n",
       "      <th></th>\n",
       "      <th>course_id</th>\n",
       "      <th>course_title</th>\n",
       "      <th>url</th>\n",
       "      <th>is_paid</th>\n",
       "      <th>price</th>\n",
       "      <th>num_subscribers</th>\n",
       "      <th>num_reviews</th>\n",
       "      <th>num_lectures</th>\n",
       "      <th>level</th>\n",
       "      <th>content_duration</th>\n",
       "      <th>published_timestamp</th>\n",
       "      <th>subject</th>\n",
       "    </tr>\n",
       "  </thead>\n",
       "  <tbody>\n",
       "    <tr>\n",
       "      <th>787</th>\n",
       "      <td>837322</td>\n",
       "      <td>Essentials of money value: Get a financial Life !</td>\n",
       "      <td>https://www.udemy.com/essentials-of-money-value/</td>\n",
       "      <td>True</td>\n",
       "      <td>20</td>\n",
       "      <td>0</td>\n",
       "      <td>0</td>\n",
       "      <td>20</td>\n",
       "      <td>All Levels</td>\n",
       "      <td>0.616667</td>\n",
       "      <td>2016-05-16T18:28:30Z</td>\n",
       "      <td>Business Finance</td>\n",
       "    </tr>\n",
       "    <tr>\n",
       "      <th>788</th>\n",
       "      <td>1157298</td>\n",
       "      <td>Introduction to Forex Trading Business For Beg...</td>\n",
       "      <td>https://www.udemy.com/introduction-to-forex-tr...</td>\n",
       "      <td>True</td>\n",
       "      <td>20</td>\n",
       "      <td>0</td>\n",
       "      <td>0</td>\n",
       "      <td>27</td>\n",
       "      <td>Beginner Level</td>\n",
       "      <td>1.500000</td>\n",
       "      <td>2017-04-23T16:19:01Z</td>\n",
       "      <td>Business Finance</td>\n",
       "    </tr>\n",
       "    <tr>\n",
       "      <th>894</th>\n",
       "      <td>1035638</td>\n",
       "      <td>Understanding Financial Statements</td>\n",
       "      <td>https://www.udemy.com/understanding-financial-...</td>\n",
       "      <td>True</td>\n",
       "      <td>25</td>\n",
       "      <td>0</td>\n",
       "      <td>0</td>\n",
       "      <td>10</td>\n",
       "      <td>All Levels</td>\n",
       "      <td>1.000000</td>\n",
       "      <td>2016-12-15T14:56:17Z</td>\n",
       "      <td>Business Finance</td>\n",
       "    </tr>\n",
       "    <tr>\n",
       "      <th>1100</th>\n",
       "      <td>1084454</td>\n",
       "      <td>CFA Level 2- Quantitative Methods</td>\n",
       "      <td>https://www.udemy.com/cfa-level-2-quantitative...</td>\n",
       "      <td>True</td>\n",
       "      <td>40</td>\n",
       "      <td>0</td>\n",
       "      <td>0</td>\n",
       "      <td>35</td>\n",
       "      <td>All Levels</td>\n",
       "      <td>5.500000</td>\n",
       "      <td>2017-07-02T14:29:35Z</td>\n",
       "      <td>Business Finance</td>\n",
       "    </tr>\n",
       "    <tr>\n",
       "      <th>1473</th>\n",
       "      <td>185526</td>\n",
       "      <td>MicroStation - Células</td>\n",
       "      <td>https://www.udemy.com/microstation-celulas/</td>\n",
       "      <td>True</td>\n",
       "      <td>20</td>\n",
       "      <td>0</td>\n",
       "      <td>0</td>\n",
       "      <td>9</td>\n",
       "      <td>Beginner Level</td>\n",
       "      <td>0.616667</td>\n",
       "      <td>2014-04-15T21:48:55Z</td>\n",
       "      <td>Graphic Design</td>\n",
       "    </tr>\n",
       "    <tr>\n",
       "      <th>2561</th>\n",
       "      <td>28295</td>\n",
       "      <td>Learn Web Designing &amp; HTML5/CSS3 Essentials in...</td>\n",
       "      <td>https://www.udemy.com/build-beautiful-html5-we...</td>\n",
       "      <td>True</td>\n",
       "      <td>75</td>\n",
       "      <td>43285</td>\n",
       "      <td>525</td>\n",
       "      <td>24</td>\n",
       "      <td>All Levels</td>\n",
       "      <td>4.000000</td>\n",
       "      <td>2013-01-03T00:55:31Z</td>\n",
       "      <td>Web Development</td>\n",
       "    </tr>\n",
       "  </tbody>\n",
       "</table>\n",
       "</div>"
      ],
      "text/plain": [
       "      course_id                                       course_title  \\\n",
       "787      837322  Essentials of money value: Get a financial Life !   \n",
       "788     1157298  Introduction to Forex Trading Business For Beg...   \n",
       "894     1035638                 Understanding Financial Statements   \n",
       "1100    1084454                  CFA Level 2- Quantitative Methods   \n",
       "1473     185526                             MicroStation - Células   \n",
       "2561      28295  Learn Web Designing & HTML5/CSS3 Essentials in...   \n",
       "\n",
       "                                                    url  is_paid  price  \\\n",
       "787    https://www.udemy.com/essentials-of-money-value/     True     20   \n",
       "788   https://www.udemy.com/introduction-to-forex-tr...     True     20   \n",
       "894   https://www.udemy.com/understanding-financial-...     True     25   \n",
       "1100  https://www.udemy.com/cfa-level-2-quantitative...     True     40   \n",
       "1473        https://www.udemy.com/microstation-celulas/     True     20   \n",
       "2561  https://www.udemy.com/build-beautiful-html5-we...     True     75   \n",
       "\n",
       "      num_subscribers  num_reviews  num_lectures           level  \\\n",
       "787                 0            0            20      All Levels   \n",
       "788                 0            0            27  Beginner Level   \n",
       "894                 0            0            10      All Levels   \n",
       "1100                0            0            35      All Levels   \n",
       "1473                0            0             9  Beginner Level   \n",
       "2561            43285          525            24      All Levels   \n",
       "\n",
       "      content_duration   published_timestamp           subject  \n",
       "787           0.616667  2016-05-16T18:28:30Z  Business Finance  \n",
       "788           1.500000  2017-04-23T16:19:01Z  Business Finance  \n",
       "894           1.000000  2016-12-15T14:56:17Z  Business Finance  \n",
       "1100          5.500000  2017-07-02T14:29:35Z  Business Finance  \n",
       "1473          0.616667  2014-04-15T21:48:55Z    Graphic Design  \n",
       "2561          4.000000  2013-01-03T00:55:31Z   Web Development  "
      ]
     },
     "execution_count": 10,
     "metadata": {},
     "output_type": "execute_result"
    }
   ],
   "source": [
    "#Veo si Udemy tiene duplicados\n",
    "udemy[udemy.duplicated()]"
   ]
  },
  {
   "cell_type": "code",
   "execution_count": 11,
   "metadata": {},
   "outputs": [],
   "source": [
    "#Elimino los duplicados de Udemy\n",
    "udemy.drop_duplicates(inplace = True)"
   ]
  },
  {
   "cell_type": "code",
   "execution_count": 12,
   "metadata": {},
   "outputs": [],
   "source": [
    "#Filtro los nulos de \"reviews\" en coursera_reviews con \"sin dato\"\n",
    "coursera_reviews[\"reviews\"].fillna(\"sin dato\", inplace = True)"
   ]
  },
  {
   "cell_type": "code",
   "execution_count": 13,
   "metadata": {},
   "outputs": [
    {
     "data": {
      "text/html": [
       "<div>\n",
       "<style scoped>\n",
       "    .dataframe tbody tr th:only-of-type {\n",
       "        vertical-align: middle;\n",
       "    }\n",
       "\n",
       "    .dataframe tbody tr th {\n",
       "        vertical-align: top;\n",
       "    }\n",
       "\n",
       "    .dataframe thead th {\n",
       "        text-align: right;\n",
       "    }\n",
       "</style>\n",
       "<table border=\"1\" class=\"dataframe\">\n",
       "  <thead>\n",
       "    <tr style=\"text-align: right;\">\n",
       "      <th></th>\n",
       "      <th>title</th>\n",
       "      <th>summary</th>\n",
       "      <th>n_enrolled</th>\n",
       "      <th>course_type</th>\n",
       "      <th>institution</th>\n",
       "      <th>instructors</th>\n",
       "      <th>Level</th>\n",
       "      <th>subject</th>\n",
       "      <th>language</th>\n",
       "      <th>subtitles</th>\n",
       "      <th>course_effort</th>\n",
       "      <th>course_length</th>\n",
       "      <th>price</th>\n",
       "      <th>course_description</th>\n",
       "      <th>course_syllabus</th>\n",
       "      <th>course_url</th>\n",
       "    </tr>\n",
       "  </thead>\n",
       "  <tbody>\n",
       "    <tr>\n",
       "      <th>95</th>\n",
       "      <td>Introduction to Probability</td>\n",
       "      <td>Learn probability, an essential language and s...</td>\n",
       "      <td>97,291</td>\n",
       "      <td>Self-paced on your time</td>\n",
       "      <td>Harvard University</td>\n",
       "      <td>Joseph Blitzstein</td>\n",
       "      <td>Intermediate</td>\n",
       "      <td>Data Analysis &amp; Statistics</td>\n",
       "      <td>English</td>\n",
       "      <td>English</td>\n",
       "      <td>5–10 hours per week</td>\n",
       "      <td>10 Weeks</td>\n",
       "      <td>FREE-Add a Verified Certificate for $99 USD</td>\n",
       "      <td>Probability and statistics help to bring logic...</td>\n",
       "      <td>NaN</td>\n",
       "      <td>https://www.edx.org/course/introduction-to-pro...</td>\n",
       "    </tr>\n",
       "  </tbody>\n",
       "</table>\n",
       "</div>"
      ],
      "text/plain": [
       "                          title  \\\n",
       "95  Introduction to Probability   \n",
       "\n",
       "                                              summary n_enrolled  \\\n",
       "95  Learn probability, an essential language and s...     97,291   \n",
       "\n",
       "                course_type         institution        instructors  \\\n",
       "95  Self-paced on your time  Harvard University  Joseph Blitzstein   \n",
       "\n",
       "           Level                     subject language subtitles  \\\n",
       "95  Intermediate  Data Analysis & Statistics  English   English   \n",
       "\n",
       "          course_effort course_length  \\\n",
       "95  5–10 hours per week      10 Weeks   \n",
       "\n",
       "                                          price  \\\n",
       "95  FREE-Add a Verified Certificate for $99 USD   \n",
       "\n",
       "                                   course_description course_syllabus  \\\n",
       "95  Probability and statistics help to bring logic...             NaN   \n",
       "\n",
       "                                           course_url  \n",
       "95  https://www.edx.org/course/introduction-to-pro...  "
      ]
     },
     "execution_count": 13,
     "metadata": {},
     "output_type": "execute_result"
    }
   ],
   "source": [
    "#Veo si edx tiene duplicados\n",
    "edx[edx.duplicated()]"
   ]
  },
  {
   "cell_type": "code",
   "execution_count": 14,
   "metadata": {},
   "outputs": [
    {
     "data": {
      "text/html": [
       "<div>\n",
       "<style scoped>\n",
       "    .dataframe tbody tr th:only-of-type {\n",
       "        vertical-align: middle;\n",
       "    }\n",
       "\n",
       "    .dataframe tbody tr th {\n",
       "        vertical-align: top;\n",
       "    }\n",
       "\n",
       "    .dataframe thead th {\n",
       "        text-align: right;\n",
       "    }\n",
       "</style>\n",
       "<table border=\"1\" class=\"dataframe\">\n",
       "  <thead>\n",
       "    <tr style=\"text-align: right;\">\n",
       "      <th></th>\n",
       "      <th>title</th>\n",
       "      <th>summary</th>\n",
       "      <th>n_enrolled</th>\n",
       "      <th>course_type</th>\n",
       "      <th>institution</th>\n",
       "      <th>instructors</th>\n",
       "      <th>Level</th>\n",
       "      <th>subject</th>\n",
       "      <th>language</th>\n",
       "      <th>subtitles</th>\n",
       "      <th>course_effort</th>\n",
       "      <th>course_length</th>\n",
       "      <th>price</th>\n",
       "      <th>course_description</th>\n",
       "      <th>course_syllabus</th>\n",
       "      <th>course_url</th>\n",
       "    </tr>\n",
       "  </thead>\n",
       "  <tbody>\n",
       "    <tr>\n",
       "      <th>59</th>\n",
       "      <td>Introduction to Probability</td>\n",
       "      <td>Learn probability, an essential language and s...</td>\n",
       "      <td>97,291</td>\n",
       "      <td>Self-paced on your time</td>\n",
       "      <td>Harvard University</td>\n",
       "      <td>Joseph Blitzstein</td>\n",
       "      <td>Intermediate</td>\n",
       "      <td>Data Analysis &amp; Statistics</td>\n",
       "      <td>English</td>\n",
       "      <td>English</td>\n",
       "      <td>5–10 hours per week</td>\n",
       "      <td>10 Weeks</td>\n",
       "      <td>FREE-Add a Verified Certificate for $99 USD</td>\n",
       "      <td>Probability and statistics help to bring logic...</td>\n",
       "      <td>NaN</td>\n",
       "      <td>https://www.edx.org/course/introduction-to-pro...</td>\n",
       "    </tr>\n",
       "    <tr>\n",
       "      <th>95</th>\n",
       "      <td>Introduction to Probability</td>\n",
       "      <td>Learn probability, an essential language and s...</td>\n",
       "      <td>97,291</td>\n",
       "      <td>Self-paced on your time</td>\n",
       "      <td>Harvard University</td>\n",
       "      <td>Joseph Blitzstein</td>\n",
       "      <td>Intermediate</td>\n",
       "      <td>Data Analysis &amp; Statistics</td>\n",
       "      <td>English</td>\n",
       "      <td>English</td>\n",
       "      <td>5–10 hours per week</td>\n",
       "      <td>10 Weeks</td>\n",
       "      <td>FREE-Add a Verified Certificate for $99 USD</td>\n",
       "      <td>Probability and statistics help to bring logic...</td>\n",
       "      <td>NaN</td>\n",
       "      <td>https://www.edx.org/course/introduction-to-pro...</td>\n",
       "    </tr>\n",
       "  </tbody>\n",
       "</table>\n",
       "</div>"
      ],
      "text/plain": [
       "                          title  \\\n",
       "59  Introduction to Probability   \n",
       "95  Introduction to Probability   \n",
       "\n",
       "                                              summary n_enrolled  \\\n",
       "59  Learn probability, an essential language and s...     97,291   \n",
       "95  Learn probability, an essential language and s...     97,291   \n",
       "\n",
       "                course_type         institution        instructors  \\\n",
       "59  Self-paced on your time  Harvard University  Joseph Blitzstein   \n",
       "95  Self-paced on your time  Harvard University  Joseph Blitzstein   \n",
       "\n",
       "           Level                     subject language subtitles  \\\n",
       "59  Intermediate  Data Analysis & Statistics  English   English   \n",
       "95  Intermediate  Data Analysis & Statistics  English   English   \n",
       "\n",
       "          course_effort course_length  \\\n",
       "59  5–10 hours per week      10 Weeks   \n",
       "95  5–10 hours per week      10 Weeks   \n",
       "\n",
       "                                          price  \\\n",
       "59  FREE-Add a Verified Certificate for $99 USD   \n",
       "95  FREE-Add a Verified Certificate for $99 USD   \n",
       "\n",
       "                                   course_description course_syllabus  \\\n",
       "59  Probability and statistics help to bring logic...             NaN   \n",
       "95  Probability and statistics help to bring logic...             NaN   \n",
       "\n",
       "                                           course_url  \n",
       "59  https://www.edx.org/course/introduction-to-pro...  \n",
       "95  https://www.edx.org/course/introduction-to-pro...  "
      ]
     },
     "execution_count": 14,
     "metadata": {},
     "output_type": "execute_result"
    }
   ],
   "source": [
    "edx[edx[\"title\"] == \"Introduction to Probability\"]"
   ]
  },
  {
   "cell_type": "code",
   "execution_count": 15,
   "metadata": {},
   "outputs": [],
   "source": [
    "#Borro el registro duplicado de edx\n",
    "edx.drop_duplicates(inplace = True)"
   ]
  },
  {
   "cell_type": "code",
   "execution_count": 16,
   "metadata": {},
   "outputs": [
    {
     "data": {
      "text/plain": [
       "0       FREE-Add a Verified Certificate for $49 USD\n",
       "1       FREE-Add a Verified Certificate for $49 USD\n",
       "2       FREE-Add a Verified Certificate for $90 USD\n",
       "3      FREE-Add a Verified Certificate for $199 USD\n",
       "4      FREE-Add a Verified Certificate for $249 USD\n",
       "                           ...                     \n",
       "970     FREE-Add a Verified Certificate for $25 USD\n",
       "971    FREE-Add a Verified Certificate for $139 USD\n",
       "972    FREE-Add a Verified Certificate for $139 USD\n",
       "973     FREE-Add a Verified Certificate for $25 USD\n",
       "974     FREE-Add a Verified Certificate for $79 USD\n",
       "Name: price, Length: 974, dtype: object"
      ]
     },
     "execution_count": 16,
     "metadata": {},
     "output_type": "execute_result"
    }
   ],
   "source": [
    "edx[\"price\"]"
   ]
  },
  {
   "cell_type": "code",
   "execution_count": 17,
   "metadata": {},
   "outputs": [],
   "source": [
    "#Paso a la columna price de edx a númerico\n",
    "precios_numericos = []\n",
    "for i in edx[\"price\"]:\n",
    "    precios_numericos.append(i[37:-4])"
   ]
  },
  {
   "cell_type": "code",
   "execution_count": 18,
   "metadata": {},
   "outputs": [],
   "source": [
    "edx[\"price_int\"] = precios_numericos"
   ]
  },
  {
   "cell_type": "code",
   "execution_count": 19,
   "metadata": {},
   "outputs": [],
   "source": [
    "#Agrego la columna \"price_int\" con los precios en valor númerico\n",
    "edx[\"price_int\"] = edx[\"price_int\"].astype(float)"
   ]
  },
  {
   "cell_type": "code",
   "execution_count": 20,
   "metadata": {},
   "outputs": [
    {
     "name": "stdout",
     "output_type": "stream",
     "text": [
      "<class 'pandas.core.frame.DataFrame'>\n",
      "Int64Index: 974 entries, 0 to 974\n",
      "Data columns (total 17 columns):\n",
      " #   Column              Non-Null Count  Dtype  \n",
      "---  ------              --------------  -----  \n",
      " 0   title               974 non-null    object \n",
      " 1   summary             921 non-null    object \n",
      " 2   n_enrolled          854 non-null    object \n",
      " 3   course_type         974 non-null    object \n",
      " 4   institution         974 non-null    object \n",
      " 5   instructors         971 non-null    object \n",
      " 6   Level               974 non-null    object \n",
      " 7   subject             974 non-null    object \n",
      " 8   language            974 non-null    object \n",
      " 9   subtitles           971 non-null    object \n",
      " 10  course_effort       974 non-null    object \n",
      " 11  course_length       974 non-null    object \n",
      " 12  price               974 non-null    object \n",
      " 13  course_description  934 non-null    object \n",
      " 14  course_syllabus     417 non-null    object \n",
      " 15  course_url          974 non-null    object \n",
      " 16  price_int           974 non-null    float64\n",
      "dtypes: float64(1), object(16)\n",
      "memory usage: 137.0+ KB\n"
     ]
    }
   ],
   "source": [
    "edx.info()"
   ]
  },
  {
   "cell_type": "code",
   "execution_count": 21,
   "metadata": {},
   "outputs": [],
   "source": [
    "#Filtro los nulos de la columna n_enrolled\n",
    "edx[\"n_enrolled\"].fillna(\"0\", inplace = True)"
   ]
  },
  {
   "cell_type": "code",
   "execution_count": 22,
   "metadata": {},
   "outputs": [],
   "source": [
    "#Le quito la \",\" a los valores de n_enrolled para luego pasarlos a int\n",
    "edx[\"n_enrolled\"] = edx[\"n_enrolled\"].str.replace(',','')"
   ]
  },
  {
   "cell_type": "code",
   "execution_count": 23,
   "metadata": {},
   "outputs": [],
   "source": [
    "#Paso la columna n_enrolled a int\n",
    "edx[\"n_enrolled\"] = edx[\"n_enrolled\"].astype(int)"
   ]
  },
  {
   "cell_type": "code",
   "execution_count": 24,
   "metadata": {},
   "outputs": [
    {
     "name": "stdout",
     "output_type": "stream",
     "text": [
      "<class 'pandas.core.frame.DataFrame'>\n",
      "Int64Index: 974 entries, 0 to 974\n",
      "Data columns (total 17 columns):\n",
      " #   Column              Non-Null Count  Dtype  \n",
      "---  ------              --------------  -----  \n",
      " 0   title               974 non-null    object \n",
      " 1   summary             921 non-null    object \n",
      " 2   n_enrolled          974 non-null    int32  \n",
      " 3   course_type         974 non-null    object \n",
      " 4   institution         974 non-null    object \n",
      " 5   instructors         971 non-null    object \n",
      " 6   Level               974 non-null    object \n",
      " 7   subject             974 non-null    object \n",
      " 8   language            974 non-null    object \n",
      " 9   subtitles           971 non-null    object \n",
      " 10  course_effort       974 non-null    object \n",
      " 11  course_length       974 non-null    object \n",
      " 12  price               974 non-null    object \n",
      " 13  course_description  934 non-null    object \n",
      " 14  course_syllabus     417 non-null    object \n",
      " 15  course_url          974 non-null    object \n",
      " 16  price_int           974 non-null    float64\n",
      "dtypes: float64(1), int32(1), object(15)\n",
      "memory usage: 133.2+ KB\n"
     ]
    }
   ],
   "source": [
    "edx.info()"
   ]
  },
  {
   "attachments": {},
   "cell_type": "markdown",
   "metadata": {},
   "source": [
    "NIVEL DE VENTAS POR PRECIO EN EDX"
   ]
  },
  {
   "cell_type": "code",
   "execution_count": 25,
   "metadata": {},
   "outputs": [
    {
     "data": {
      "text/plain": [
       "1014246"
      ]
     },
     "execution_count": 25,
     "metadata": {},
     "output_type": "execute_result"
    }
   ],
   "source": [
    "edx[\"n_enrolled\"][edx[\"price_int\"].between(272.0, 361.0, inclusive=\"both\")].sum()"
   ]
  },
  {
   "cell_type": "code",
   "execution_count": 26,
   "metadata": {},
   "outputs": [
    {
     "name": "stdout",
     "output_type": "stream",
     "text": [
      "El  44.9  por ciento de los clientes de edx hicieron cursos que su certificado vale entre 4.555 y 94 dolares\n"
     ]
    }
   ],
   "source": [
    "print(\"El \",round((edx[\"n_enrolled\"][edx[\"price_int\"].between(4.555, 94, inclusive=\"both\")].sum())*100/ edx[\"n_enrolled\"].sum(),1),\" por ciento de los clientes de edx hicieron cursos que su certificado vale entre 4.555 y 94 dolares\")"
   ]
  },
  {
   "cell_type": "code",
   "execution_count": 27,
   "metadata": {},
   "outputs": [
    {
     "name": "stdout",
     "output_type": "stream",
     "text": [
      "El  38.5  por ciento de los clientes de edx hicieron cursos que su certificado vale entre 94.1 y 183 dolares\n"
     ]
    }
   ],
   "source": [
    "print(\"El \",round((edx[\"n_enrolled\"][edx[\"price_int\"].between(94.1,183,inclusive=\"both\")].sum())*100/ edx[\"n_enrolled\"].sum(),1),\" por ciento de los clientes de edx hicieron cursos que su certificado vale entre 94.1 y 183 dolares\")"
   ]
  },
  {
   "cell_type": "code",
   "execution_count": 28,
   "metadata": {},
   "outputs": [
    {
     "name": "stdout",
     "output_type": "stream",
     "text": [
      "El  14.0  por ciento de los clientes de edx hicieron cursos que su certificado vale entre 183.1 y 272 dolares\n"
     ]
    }
   ],
   "source": [
    "print(\"El \",round((edx[\"n_enrolled\"][edx[\"price_int\"].between(183.1,272,inclusive=\"both\")].sum())*100/ edx[\"n_enrolled\"].sum(),1),\" por ciento de los clientes de edx hicieron cursos que su certificado vale entre 183.1 y 272 dolares\")"
   ]
  },
  {
   "cell_type": "code",
   "execution_count": 29,
   "metadata": {},
   "outputs": [
    {
     "name": "stdout",
     "output_type": "stream",
     "text": [
      "El  2.2  por ciento de los clientes de edx hicieron cursos que su certificado vale entre 272.1 y 361 dolares\n"
     ]
    }
   ],
   "source": [
    "print(\"El \",round((edx[\"n_enrolled\"][edx[\"price_int\"].between(272.1,361,inclusive=\"both\")].sum())*100/ edx[\"n_enrolled\"].sum(),1),\" por ciento de los clientes de edx hicieron cursos que su certificado vale entre 272.1 y 361 dolares\")"
   ]
  },
  {
   "cell_type": "code",
   "execution_count": 30,
   "metadata": {},
   "outputs": [
    {
     "name": "stdout",
     "output_type": "stream",
     "text": [
      "El  0.4  por ciento de los clientes de edx hicieron cursos que su certificado vale entre 361.1 y 450 dolares\n"
     ]
    }
   ],
   "source": [
    "print(\"El \",round((edx[\"n_enrolled\"][edx[\"price_int\"].between(361.1,450,inclusive=\"both\")].sum())*100/ edx[\"n_enrolled\"].sum(),1),\" por ciento de los clientes de edx hicieron cursos que su certificado vale entre 361.1 y 450 dolares\")"
   ]
  },
  {
   "cell_type": "code",
   "execution_count": 31,
   "metadata": {},
   "outputs": [],
   "source": [
    "df1 = edx.groupby(pd.cut(edx[\"price_int\"], 5))[\"n_enrolled\"].sum()"
   ]
  },
  {
   "cell_type": "code",
   "execution_count": 32,
   "metadata": {},
   "outputs": [],
   "source": [
    "df1 = pd.DataFrame(df1)"
   ]
  },
  {
   "cell_type": "code",
   "execution_count": 33,
   "metadata": {},
   "outputs": [
    {
     "data": {
      "text/html": [
       "<div>\n",
       "<style scoped>\n",
       "    .dataframe tbody tr th:only-of-type {\n",
       "        vertical-align: middle;\n",
       "    }\n",
       "\n",
       "    .dataframe tbody tr th {\n",
       "        vertical-align: top;\n",
       "    }\n",
       "\n",
       "    .dataframe thead th {\n",
       "        text-align: right;\n",
       "    }\n",
       "</style>\n",
       "<table border=\"1\" class=\"dataframe\">\n",
       "  <thead>\n",
       "    <tr style=\"text-align: right;\">\n",
       "      <th></th>\n",
       "      <th>n_enrolled</th>\n",
       "    </tr>\n",
       "    <tr>\n",
       "      <th>price_int</th>\n",
       "      <th></th>\n",
       "    </tr>\n",
       "  </thead>\n",
       "  <tbody>\n",
       "    <tr>\n",
       "      <th>(4.555, 94.0]</th>\n",
       "      <td>20398776</td>\n",
       "    </tr>\n",
       "    <tr>\n",
       "      <th>(94.0, 183.0]</th>\n",
       "      <td>17480751</td>\n",
       "    </tr>\n",
       "    <tr>\n",
       "      <th>(183.0, 272.0]</th>\n",
       "      <td>6375976</td>\n",
       "    </tr>\n",
       "    <tr>\n",
       "      <th>(272.0, 361.0]</th>\n",
       "      <td>1014246</td>\n",
       "    </tr>\n",
       "    <tr>\n",
       "      <th>(361.0, 450.0]</th>\n",
       "      <td>170560</td>\n",
       "    </tr>\n",
       "  </tbody>\n",
       "</table>\n",
       "</div>"
      ],
      "text/plain": [
       "                n_enrolled\n",
       "price_int                 \n",
       "(4.555, 94.0]     20398776\n",
       "(94.0, 183.0]     17480751\n",
       "(183.0, 272.0]     6375976\n",
       "(272.0, 361.0]     1014246\n",
       "(361.0, 450.0]      170560"
      ]
     },
     "execution_count": 33,
     "metadata": {},
     "output_type": "execute_result"
    }
   ],
   "source": [
    "df1"
   ]
  },
  {
   "cell_type": "code",
   "execution_count": 34,
   "metadata": {},
   "outputs": [],
   "source": [
    "df1 = df1.reset_index()"
   ]
  },
  {
   "cell_type": "code",
   "execution_count": 35,
   "metadata": {},
   "outputs": [],
   "source": [
    "df1[\"percentage\"] = round(df1[\"n_enrolled\"] * 100/ edx[\"n_enrolled\"].sum(),1)"
   ]
  },
  {
   "cell_type": "code",
   "execution_count": 43,
   "metadata": {},
   "outputs": [],
   "source": [
    "#Paso la columna price_int de type category a string\n",
    "df1[\"price_int\"] = df1[\"price_int\"].astype(\"str\")"
   ]
  },
  {
   "cell_type": "code",
   "execution_count": 46,
   "metadata": {},
   "outputs": [
    {
     "name": "stdout",
     "output_type": "stream",
     "text": [
      "<class 'pandas.core.frame.DataFrame'>\n",
      "RangeIndex: 5 entries, 0 to 4\n",
      "Data columns (total 3 columns):\n",
      " #   Column      Non-Null Count  Dtype  \n",
      "---  ------      --------------  -----  \n",
      " 0   price_int   5 non-null      object \n",
      " 1   n_enrolled  5 non-null      int32  \n",
      " 2   percentage  5 non-null      float64\n",
      "dtypes: float64(1), int32(1), object(1)\n",
      "memory usage: 228.0+ bytes\n"
     ]
    }
   ],
   "source": [
    "df1.info()"
   ]
  },
  {
   "cell_type": "code",
   "execution_count": 44,
   "metadata": {},
   "outputs": [
    {
     "data": {
      "text/html": [
       "<div>\n",
       "<style scoped>\n",
       "    .dataframe tbody tr th:only-of-type {\n",
       "        vertical-align: middle;\n",
       "    }\n",
       "\n",
       "    .dataframe tbody tr th {\n",
       "        vertical-align: top;\n",
       "    }\n",
       "\n",
       "    .dataframe thead th {\n",
       "        text-align: right;\n",
       "    }\n",
       "</style>\n",
       "<table border=\"1\" class=\"dataframe\">\n",
       "  <thead>\n",
       "    <tr style=\"text-align: right;\">\n",
       "      <th></th>\n",
       "      <th>price_int</th>\n",
       "      <th>n_enrolled</th>\n",
       "      <th>percentage</th>\n",
       "    </tr>\n",
       "  </thead>\n",
       "  <tbody>\n",
       "    <tr>\n",
       "      <th>0</th>\n",
       "      <td>(4.555, 94.0]</td>\n",
       "      <td>20398776</td>\n",
       "      <td>44.9</td>\n",
       "    </tr>\n",
       "    <tr>\n",
       "      <th>1</th>\n",
       "      <td>(94.0, 183.0]</td>\n",
       "      <td>17480751</td>\n",
       "      <td>38.5</td>\n",
       "    </tr>\n",
       "    <tr>\n",
       "      <th>2</th>\n",
       "      <td>(183.0, 272.0]</td>\n",
       "      <td>6375976</td>\n",
       "      <td>14.0</td>\n",
       "    </tr>\n",
       "    <tr>\n",
       "      <th>3</th>\n",
       "      <td>(272.0, 361.0]</td>\n",
       "      <td>1014246</td>\n",
       "      <td>2.2</td>\n",
       "    </tr>\n",
       "    <tr>\n",
       "      <th>4</th>\n",
       "      <td>(361.0, 450.0]</td>\n",
       "      <td>170560</td>\n",
       "      <td>0.4</td>\n",
       "    </tr>\n",
       "  </tbody>\n",
       "</table>\n",
       "</div>"
      ],
      "text/plain": [
       "        price_int  n_enrolled  percentage\n",
       "0   (4.555, 94.0]    20398776        44.9\n",
       "1   (94.0, 183.0]    17480751        38.5\n",
       "2  (183.0, 272.0]     6375976        14.0\n",
       "3  (272.0, 361.0]     1014246         2.2\n",
       "4  (361.0, 450.0]      170560         0.4"
      ]
     },
     "execution_count": 44,
     "metadata": {},
     "output_type": "execute_result"
    }
   ],
   "source": [
    "#Este dataframe me dice cuantas personas se enrrolaron en cada rango de precio de edx, y el porcentaje del total que representan. Datos de EDX\n",
    "df1"
   ]
  },
  {
   "cell_type": "code",
   "execution_count": 63,
   "metadata": {},
   "outputs": [
    {
     "data": {
      "image/png": "[encoded data removed]",
      "text/plain": [
       "<Figure size 640x480 with 1 Axes>"
      ]
     },
     "metadata": {},
     "output_type": "display_data"
    }
   ],
   "source": [
    "y = list(df1[\"price_int\"])\n",
    "x = list(df1[\"percentage\"])\n",
    "\n",
    "plt.barh(y,x, color = [\"green\",\"blue\",\"yellow\",\"orange\",\"red\"])\n",
    "plt.title(\"Porcentaje de ventas por rango de precio\")\n",
    "plt.xlabel(\"porcentaje %\")\n",
    "plt.ylabel(\"rangos de precio\")\n",
    "plt.show()"
   ]
  },
  {
   "cell_type": "code",
   "execution_count": 38,
   "metadata": {},
   "outputs": [],
   "source": [
    "#Exporto df1\n",
    "df1.to_csv(\"edx_precios.csv\", index = False)"
   ]
  },
  {
   "cell_type": "code",
   "execution_count": 39,
   "metadata": {},
   "outputs": [
    {
     "name": "stdout",
     "output_type": "stream",
     "text": [
      "<class 'pandas.core.frame.DataFrame'>\n",
      "Int64Index: 974 entries, 0 to 974\n",
      "Data columns (total 17 columns):\n",
      " #   Column              Non-Null Count  Dtype  \n",
      "---  ------              --------------  -----  \n",
      " 0   title               974 non-null    object \n",
      " 1   summary             921 non-null    object \n",
      " 2   n_enrolled          974 non-null    int32  \n",
      " 3   course_type         974 non-null    object \n",
      " 4   institution         974 non-null    object \n",
      " 5   instructors         971 non-null    object \n",
      " 6   Level               974 non-null    object \n",
      " 7   subject             974 non-null    object \n",
      " 8   language            974 non-null    object \n",
      " 9   subtitles           971 non-null    object \n",
      " 10  course_effort       974 non-null    object \n",
      " 11  course_length       974 non-null    object \n",
      " 12  price               974 non-null    object \n",
      " 13  course_description  934 non-null    object \n",
      " 14  course_syllabus     417 non-null    object \n",
      " 15  course_url          974 non-null    object \n",
      " 16  price_int           974 non-null    float64\n",
      "dtypes: float64(1), int32(1), object(15)\n",
      "memory usage: 133.2+ KB\n"
     ]
    }
   ],
   "source": [
    "edx.info()"
   ]
  },
  {
   "attachments": {},
   "cell_type": "markdown",
   "metadata": {},
   "source": [
    "NIVEL DE VENTAS DE EDX POR IDIOMA"
   ]
  },
  {
   "cell_type": "code",
   "execution_count": 64,
   "metadata": {},
   "outputs": [
    {
     "data": {
      "text/plain": [
       "45440309"
      ]
     },
     "execution_count": 64,
     "metadata": {},
     "output_type": "execute_result"
    }
   ],
   "source": [
    "edx[\"n_enrolled\"].sum()"
   ]
  },
  {
   "cell_type": "code",
   "execution_count": 65,
   "metadata": {},
   "outputs": [
    {
     "data": {
      "text/plain": [
       "English          776\n",
       "Español          176\n",
       "Français           7\n",
       "Italiano           4\n",
       "中文                 4\n",
       "Português          4\n",
       "日本語                1\n",
       "اللغة العربية      1\n",
       "Deutsch            1\n",
       "Name: language, dtype: int64"
      ]
     },
     "execution_count": 65,
     "metadata": {},
     "output_type": "execute_result"
    }
   ],
   "source": [
    "edx[\"language\"].value_counts()"
   ]
  },
  {
   "cell_type": "code",
   "execution_count": 66,
   "metadata": {},
   "outputs": [
    {
     "name": "stdout",
     "output_type": "stream",
     "text": [
      "El 90.5 por ciento de los clientes de edx toman cursos en ingles\n"
     ]
    }
   ],
   "source": [
    "print(\"El\",round((edx[\"n_enrolled\"][edx[\"language\"]== \"English\"].sum() * 100)/ edx[\"n_enrolled\"].sum(),1),\"por ciento de los clientes de edx toman cursos en ingles\")"
   ]
  },
  {
   "cell_type": "code",
   "execution_count": 67,
   "metadata": {},
   "outputs": [
    {
     "name": "stdout",
     "output_type": "stream",
     "text": [
      "El 8.2 por ciento de los clientes de edx toman cursos en Español\n"
     ]
    }
   ],
   "source": [
    "print(\"El\",round((edx[\"n_enrolled\"][edx[\"language\"]== \"Español\"].sum() * 100)/ edx[\"n_enrolled\"].sum(),1),\"por ciento de los clientes de edx toman cursos en Español\")"
   ]
  },
  {
   "cell_type": "code",
   "execution_count": 68,
   "metadata": {},
   "outputs": [
    {
     "name": "stdout",
     "output_type": "stream",
     "text": [
      "El 1.4 por ciento de los clientes de edx toman cursos en idiomas distintos a español e ingles\n"
     ]
    }
   ],
   "source": [
    "print(\"El\",round((edx[\"n_enrolled\"][(edx[\"language\"] != \"English\") & (edx[\"language\"] !=\"Español\")].sum() * 100)/ edx[\"n_enrolled\"].sum(),1),\"por ciento de los clientes de edx toman cursos en idiomas distintos a español e ingles\")"
   ]
  },
  {
   "cell_type": "code",
   "execution_count": 69,
   "metadata": {},
   "outputs": [],
   "source": [
    "edx_idiomas = pd.DataFrame({\"idioma\":[\"ingles\",\"español\",\"otro\"],\n",
    "                       \"porcentaje\":[90.5,8.2,1.4]})"
   ]
  },
  {
   "cell_type": "code",
   "execution_count": 70,
   "metadata": {},
   "outputs": [
    {
     "data": {
      "text/html": [
       "<div>\n",
       "<style scoped>\n",
       "    .dataframe tbody tr th:only-of-type {\n",
       "        vertical-align: middle;\n",
       "    }\n",
       "\n",
       "    .dataframe tbody tr th {\n",
       "        vertical-align: top;\n",
       "    }\n",
       "\n",
       "    .dataframe thead th {\n",
       "        text-align: right;\n",
       "    }\n",
       "</style>\n",
       "<table border=\"1\" class=\"dataframe\">\n",
       "  <thead>\n",
       "    <tr style=\"text-align: right;\">\n",
       "      <th></th>\n",
       "      <th>idioma</th>\n",
       "      <th>porcentaje</th>\n",
       "    </tr>\n",
       "  </thead>\n",
       "  <tbody>\n",
       "    <tr>\n",
       "      <th>0</th>\n",
       "      <td>ingles</td>\n",
       "      <td>90.5</td>\n",
       "    </tr>\n",
       "    <tr>\n",
       "      <th>1</th>\n",
       "      <td>español</td>\n",
       "      <td>8.2</td>\n",
       "    </tr>\n",
       "    <tr>\n",
       "      <th>2</th>\n",
       "      <td>otro</td>\n",
       "      <td>1.4</td>\n",
       "    </tr>\n",
       "  </tbody>\n",
       "</table>\n",
       "</div>"
      ],
      "text/plain": [
       "    idioma  porcentaje\n",
       "0   ingles        90.5\n",
       "1  español         8.2\n",
       "2     otro         1.4"
      ]
     },
     "execution_count": 70,
     "metadata": {},
     "output_type": "execute_result"
    }
   ],
   "source": [
    "edx_idiomas"
   ]
  },
  {
   "cell_type": "code",
   "execution_count": 73,
   "metadata": {},
   "outputs": [
    {
     "data": {
      "image/png": "[encoded data removed]",
      "text/plain": [
       "<Figure size 640x480 with 1 Axes>"
      ]
     },
     "metadata": {},
     "output_type": "display_data"
    }
   ],
   "source": [
    "idiomas = list(edx_idiomas[\"idioma\"])\n",
    "sizes = list(edx_idiomas[\"porcentaje\"])\n",
    "fig1, ax1 = plt.subplots()\n",
    "ax1.pie(sizes, labels = idiomas, autopct= \"%1.1f%%\")\n",
    "ax1.axis(\"equal\")\n",
    "plt.title(\"Porcentaje de ventas por idioma del curso\")\n",
    "plt.legend()\n",
    "plt.show()"
   ]
  },
  {
   "cell_type": "code",
   "execution_count": 71,
   "metadata": {},
   "outputs": [],
   "source": [
    "edx_idiomas.to_csv(\"edx_idiomas.csv\", index=False)"
   ]
  },
  {
   "attachments": {},
   "cell_type": "markdown",
   "metadata": {},
   "source": [
    "NIVEL DE VENTAS DE EDX POR NIVEL "
   ]
  },
  {
   "cell_type": "code",
   "execution_count": 74,
   "metadata": {},
   "outputs": [
    {
     "data": {
      "text/plain": [
       "Introductory    621\n",
       "Intermediate    266\n",
       "Advanced         87\n",
       "Name: Level, dtype: int64"
      ]
     },
     "execution_count": 74,
     "metadata": {},
     "output_type": "execute_result"
    }
   ],
   "source": [
    "edx[\"Level\"].value_counts()"
   ]
  },
  {
   "cell_type": "code",
   "execution_count": 75,
   "metadata": {},
   "outputs": [
    {
     "name": "stdout",
     "output_type": "stream",
     "text": [
      "El 71.3 por ciento de los clientes de edx toman cursos de nivel introductorio, son en total: 32379441\n"
     ]
    }
   ],
   "source": [
    "print(\"El\",round((edx[\"n_enrolled\"][edx[\"Level\"]== \"Introductory\"].sum() * 100)/ edx[\"n_enrolled\"].sum(),1),\"por ciento de los clientes de edx toman cursos de nivel introductorio, son en total:\",edx[\"n_enrolled\"][edx[\"Level\"]== \"Introductory\"].sum())"
   ]
  },
  {
   "cell_type": "code",
   "execution_count": 76,
   "metadata": {},
   "outputs": [
    {
     "name": "stdout",
     "output_type": "stream",
     "text": [
      "El 22.1 por ciento de los clientes de edx toman cursos de nivel intermedio, son en total: 10061847\n"
     ]
    }
   ],
   "source": [
    "print(\"El\",round((edx[\"n_enrolled\"][edx[\"Level\"]== \"Intermediate\"].sum() * 100)/ edx[\"n_enrolled\"].sum(),1),\"por ciento de los clientes de edx toman cursos de nivel intermedio, son en total:\",edx[\"n_enrolled\"][edx[\"Level\"]== \"Intermediate\"].sum())"
   ]
  },
  {
   "cell_type": "code",
   "execution_count": 77,
   "metadata": {},
   "outputs": [
    {
     "name": "stdout",
     "output_type": "stream",
     "text": [
      "El 6.6 por ciento de los clientes de edx toman cursos de nivel avanzado, son en total: 2999021\n"
     ]
    }
   ],
   "source": [
    "print(\"El\",round((edx[\"n_enrolled\"][edx[\"Level\"]== \"Advanced\"].sum() * 100)/ edx[\"n_enrolled\"].sum(),1),\"por ciento de los clientes de edx toman cursos de nivel avanzado, son en total:\",edx[\"n_enrolled\"][edx[\"Level\"]== \"Advanced\"].sum())"
   ]
  },
  {
   "cell_type": "code",
   "execution_count": 78,
   "metadata": {},
   "outputs": [],
   "source": [
    "edx_nivel = pd.DataFrame({\"nivel\":[\"introductorio\",\"intermedio\",\"avanzado\"],\n",
    "                        \"porcentaje\":[71.3,22.1,6.6]})"
   ]
  },
  {
   "cell_type": "code",
   "execution_count": 79,
   "metadata": {},
   "outputs": [
    {
     "data": {
      "text/html": [
       "<div>\n",
       "<style scoped>\n",
       "    .dataframe tbody tr th:only-of-type {\n",
       "        vertical-align: middle;\n",
       "    }\n",
       "\n",
       "    .dataframe tbody tr th {\n",
       "        vertical-align: top;\n",
       "    }\n",
       "\n",
       "    .dataframe thead th {\n",
       "        text-align: right;\n",
       "    }\n",
       "</style>\n",
       "<table border=\"1\" class=\"dataframe\">\n",
       "  <thead>\n",
       "    <tr style=\"text-align: right;\">\n",
       "      <th></th>\n",
       "      <th>nivel</th>\n",
       "      <th>porcentaje</th>\n",
       "    </tr>\n",
       "  </thead>\n",
       "  <tbody>\n",
       "    <tr>\n",
       "      <th>0</th>\n",
       "      <td>introductorio</td>\n",
       "      <td>71.3</td>\n",
       "    </tr>\n",
       "    <tr>\n",
       "      <th>1</th>\n",
       "      <td>intermedio</td>\n",
       "      <td>22.1</td>\n",
       "    </tr>\n",
       "    <tr>\n",
       "      <th>2</th>\n",
       "      <td>avanzado</td>\n",
       "      <td>6.6</td>\n",
       "    </tr>\n",
       "  </tbody>\n",
       "</table>\n",
       "</div>"
      ],
      "text/plain": [
       "           nivel  porcentaje\n",
       "0  introductorio        71.3\n",
       "1     intermedio        22.1\n",
       "2       avanzado         6.6"
      ]
     },
     "execution_count": 79,
     "metadata": {},
     "output_type": "execute_result"
    }
   ],
   "source": [
    "edx_nivel"
   ]
  },
  {
   "cell_type": "code",
   "execution_count": 81,
   "metadata": {},
   "outputs": [
    {
     "data": {
      "image/png": "[encoded data removed]",
      "text/plain": [
       "<Figure size 640x480 with 1 Axes>"
      ]
     },
     "metadata": {},
     "output_type": "display_data"
    }
   ],
   "source": [
    "niveles = list(edx_nivel[\"nivel\"])\n",
    "b = list(edx_nivel[\"porcentaje\"])\n",
    "fig1, ax1 = plt.subplots()\n",
    "ax1.pie(b, labels = niveles, autopct= \"%1.1f%%\")\n",
    "ax1.axis(\"equal\")\n",
    "plt.title(\"Porcentaje de ventas por nivel del curso\")\n",
    "plt.legend()\n",
    "plt.show()"
   ]
  },
  {
   "cell_type": "code",
   "execution_count": 55,
   "metadata": {},
   "outputs": [],
   "source": [
    "edx_nivel.to_csv(\"edx_nivel.csv\", index= False)"
   ]
  },
  {
   "attachments": {},
   "cell_type": "markdown",
   "metadata": {},
   "source": [
    "NIVEL DE VENTAS SEGUN RANGO DE PRECIO DE UDEMY"
   ]
  },
  {
   "cell_type": "code",
   "execution_count": 82,
   "metadata": {},
   "outputs": [
    {
     "name": "stdout",
     "output_type": "stream",
     "text": [
      "<class 'pandas.core.frame.DataFrame'>\n",
      "Int64Index: 3672 entries, 0 to 3677\n",
      "Data columns (total 12 columns):\n",
      " #   Column               Non-Null Count  Dtype  \n",
      "---  ------               --------------  -----  \n",
      " 0   course_id            3672 non-null   int64  \n",
      " 1   course_title         3672 non-null   object \n",
      " 2   url                  3672 non-null   object \n",
      " 3   is_paid              3672 non-null   bool   \n",
      " 4   price                3672 non-null   int64  \n",
      " 5   num_subscribers      3672 non-null   int64  \n",
      " 6   num_reviews          3672 non-null   int64  \n",
      " 7   num_lectures         3672 non-null   int64  \n",
      " 8   level                3672 non-null   object \n",
      " 9   content_duration     3672 non-null   float64\n",
      " 10  published_timestamp  3672 non-null   object \n",
      " 11  subject              3672 non-null   object \n",
      "dtypes: bool(1), float64(1), int64(5), object(5)\n",
      "memory usage: 347.8+ KB\n"
     ]
    }
   ],
   "source": [
    "udemy.info()"
   ]
  },
  {
   "cell_type": "code",
   "execution_count": 83,
   "metadata": {},
   "outputs": [
    {
     "data": {
      "text/html": [
       "<div>\n",
       "<style scoped>\n",
       "    .dataframe tbody tr th:only-of-type {\n",
       "        vertical-align: middle;\n",
       "    }\n",
       "\n",
       "    .dataframe tbody tr th {\n",
       "        vertical-align: top;\n",
       "    }\n",
       "\n",
       "    .dataframe thead th {\n",
       "        text-align: right;\n",
       "    }\n",
       "</style>\n",
       "<table border=\"1\" class=\"dataframe\">\n",
       "  <thead>\n",
       "    <tr style=\"text-align: right;\">\n",
       "      <th></th>\n",
       "      <th>course_id</th>\n",
       "      <th>course_title</th>\n",
       "      <th>url</th>\n",
       "      <th>is_paid</th>\n",
       "      <th>price</th>\n",
       "      <th>num_subscribers</th>\n",
       "      <th>num_reviews</th>\n",
       "      <th>num_lectures</th>\n",
       "      <th>level</th>\n",
       "      <th>content_duration</th>\n",
       "      <th>published_timestamp</th>\n",
       "      <th>subject</th>\n",
       "    </tr>\n",
       "  </thead>\n",
       "  <tbody>\n",
       "    <tr>\n",
       "      <th>0</th>\n",
       "      <td>1070968</td>\n",
       "      <td>Ultimate Investment Banking Course</td>\n",
       "      <td>https://www.udemy.com/ultimate-investment-bank...</td>\n",
       "      <td>True</td>\n",
       "      <td>200</td>\n",
       "      <td>2147</td>\n",
       "      <td>23</td>\n",
       "      <td>51</td>\n",
       "      <td>All Levels</td>\n",
       "      <td>1.5</td>\n",
       "      <td>2017-01-18T20:58:58Z</td>\n",
       "      <td>Business Finance</td>\n",
       "    </tr>\n",
       "    <tr>\n",
       "      <th>1</th>\n",
       "      <td>1113822</td>\n",
       "      <td>Complete GST Course &amp; Certification - Grow You...</td>\n",
       "      <td>https://www.udemy.com/goods-and-services-tax/</td>\n",
       "      <td>True</td>\n",
       "      <td>75</td>\n",
       "      <td>2792</td>\n",
       "      <td>923</td>\n",
       "      <td>274</td>\n",
       "      <td>All Levels</td>\n",
       "      <td>39.0</td>\n",
       "      <td>2017-03-09T16:34:20Z</td>\n",
       "      <td>Business Finance</td>\n",
       "    </tr>\n",
       "    <tr>\n",
       "      <th>2</th>\n",
       "      <td>1006314</td>\n",
       "      <td>Financial Modeling for Business Analysts and C...</td>\n",
       "      <td>https://www.udemy.com/financial-modeling-for-b...</td>\n",
       "      <td>True</td>\n",
       "      <td>45</td>\n",
       "      <td>2174</td>\n",
       "      <td>74</td>\n",
       "      <td>51</td>\n",
       "      <td>Intermediate Level</td>\n",
       "      <td>2.5</td>\n",
       "      <td>2016-12-19T19:26:30Z</td>\n",
       "      <td>Business Finance</td>\n",
       "    </tr>\n",
       "    <tr>\n",
       "      <th>3</th>\n",
       "      <td>1210588</td>\n",
       "      <td>Beginner to Pro - Financial Analysis in Excel ...</td>\n",
       "      <td>https://www.udemy.com/complete-excel-finance-c...</td>\n",
       "      <td>True</td>\n",
       "      <td>95</td>\n",
       "      <td>2451</td>\n",
       "      <td>11</td>\n",
       "      <td>36</td>\n",
       "      <td>All Levels</td>\n",
       "      <td>3.0</td>\n",
       "      <td>2017-05-30T20:07:24Z</td>\n",
       "      <td>Business Finance</td>\n",
       "    </tr>\n",
       "    <tr>\n",
       "      <th>4</th>\n",
       "      <td>1011058</td>\n",
       "      <td>How To Maximize Your Profits Trading Options</td>\n",
       "      <td>https://www.udemy.com/how-to-maximize-your-pro...</td>\n",
       "      <td>True</td>\n",
       "      <td>200</td>\n",
       "      <td>1276</td>\n",
       "      <td>45</td>\n",
       "      <td>26</td>\n",
       "      <td>Intermediate Level</td>\n",
       "      <td>2.0</td>\n",
       "      <td>2016-12-13T14:57:18Z</td>\n",
       "      <td>Business Finance</td>\n",
       "    </tr>\n",
       "  </tbody>\n",
       "</table>\n",
       "</div>"
      ],
      "text/plain": [
       "   course_id                                       course_title  \\\n",
       "0    1070968                 Ultimate Investment Banking Course   \n",
       "1    1113822  Complete GST Course & Certification - Grow You...   \n",
       "2    1006314  Financial Modeling for Business Analysts and C...   \n",
       "3    1210588  Beginner to Pro - Financial Analysis in Excel ...   \n",
       "4    1011058       How To Maximize Your Profits Trading Options   \n",
       "\n",
       "                                                 url  is_paid  price  \\\n",
       "0  https://www.udemy.com/ultimate-investment-bank...     True    200   \n",
       "1      https://www.udemy.com/goods-and-services-tax/     True     75   \n",
       "2  https://www.udemy.com/financial-modeling-for-b...     True     45   \n",
       "3  https://www.udemy.com/complete-excel-finance-c...     True     95   \n",
       "4  https://www.udemy.com/how-to-maximize-your-pro...     True    200   \n",
       "\n",
       "   num_subscribers  num_reviews  num_lectures               level  \\\n",
       "0             2147           23            51          All Levels   \n",
       "1             2792          923           274          All Levels   \n",
       "2             2174           74            51  Intermediate Level   \n",
       "3             2451           11            36          All Levels   \n",
       "4             1276           45            26  Intermediate Level   \n",
       "\n",
       "   content_duration   published_timestamp           subject  \n",
       "0               1.5  2017-01-18T20:58:58Z  Business Finance  \n",
       "1              39.0  2017-03-09T16:34:20Z  Business Finance  \n",
       "2               2.5  2016-12-19T19:26:30Z  Business Finance  \n",
       "3               3.0  2017-05-30T20:07:24Z  Business Finance  \n",
       "4               2.0  2016-12-13T14:57:18Z  Business Finance  "
      ]
     },
     "execution_count": 83,
     "metadata": {},
     "output_type": "execute_result"
    }
   ],
   "source": [
    "udemy.head()"
   ]
  },
  {
   "cell_type": "code",
   "execution_count": 84,
   "metadata": {},
   "outputs": [
    {
     "data": {
      "text/plain": [
       "11715835"
      ]
     },
     "execution_count": 84,
     "metadata": {},
     "output_type": "execute_result"
    }
   ],
   "source": [
    "#Suma total de numeros de suscriptores\n",
    "udemy[\"num_subscribers\"].sum()"
   ]
  },
  {
   "cell_type": "code",
   "execution_count": 85,
   "metadata": {},
   "outputs": [
    {
     "data": {
      "text/plain": [
       "8140310"
      ]
     },
     "execution_count": 85,
     "metadata": {},
     "output_type": "execute_result"
    }
   ],
   "source": [
    "#Suma total de numero de suscriptores que pagaron para hacer un curso\n",
    "udemy[\"num_subscribers\"][udemy[\"is_paid\"] == True].sum()"
   ]
  },
  {
   "cell_type": "code",
   "execution_count": 86,
   "metadata": {},
   "outputs": [
    {
     "name": "stdout",
     "output_type": "stream",
     "text": [
      "El total de suscriptores de cursos gratis de Udemy es: 3575525 estos representan un: 30.5 por ciento del total\n"
     ]
    }
   ],
   "source": [
    "#Udemy tiene cursos que son gratuitos que no entregan certificado.\n",
    "print(\"El total de suscriptores de cursos gratis de Udemy es:\", udemy[\"num_subscribers\"][udemy[\"is_paid\"] == False].sum(), \"estos representan un:\",round(((udemy[\"num_subscribers\"][udemy[\"is_paid\"] == False].sum())/11715835)*100,1), \"por ciento del total\")"
   ]
  },
  {
   "cell_type": "code",
   "execution_count": 87,
   "metadata": {},
   "outputs": [],
   "source": [
    "df2 = pd.DataFrame(udemy.groupby(pd.cut(udemy[\"price\"][udemy[\"is_paid\"] == True], 5))[\"num_subscribers\"].sum())"
   ]
  },
  {
   "cell_type": "code",
   "execution_count": 88,
   "metadata": {},
   "outputs": [
    {
     "data": {
      "text/html": [
       "<div>\n",
       "<style scoped>\n",
       "    .dataframe tbody tr th:only-of-type {\n",
       "        vertical-align: middle;\n",
       "    }\n",
       "\n",
       "    .dataframe tbody tr th {\n",
       "        vertical-align: top;\n",
       "    }\n",
       "\n",
       "    .dataframe thead th {\n",
       "        text-align: right;\n",
       "    }\n",
       "</style>\n",
       "<table border=\"1\" class=\"dataframe\">\n",
       "  <thead>\n",
       "    <tr style=\"text-align: right;\">\n",
       "      <th></th>\n",
       "      <th>num_subscribers</th>\n",
       "    </tr>\n",
       "    <tr>\n",
       "      <th>price</th>\n",
       "      <th></th>\n",
       "    </tr>\n",
       "  </thead>\n",
       "  <tbody>\n",
       "    <tr>\n",
       "      <th>(19.82, 56.0]</th>\n",
       "      <td>2958705</td>\n",
       "    </tr>\n",
       "    <tr>\n",
       "      <th>(56.0, 92.0]</th>\n",
       "      <td>802702</td>\n",
       "    </tr>\n",
       "    <tr>\n",
       "      <th>(92.0, 128.0]</th>\n",
       "      <td>1067603</td>\n",
       "    </tr>\n",
       "    <tr>\n",
       "      <th>(128.0, 164.0]</th>\n",
       "      <td>584622</td>\n",
       "    </tr>\n",
       "    <tr>\n",
       "      <th>(164.0, 200.0]</th>\n",
       "      <td>2726678</td>\n",
       "    </tr>\n",
       "  </tbody>\n",
       "</table>\n",
       "</div>"
      ],
      "text/plain": [
       "                num_subscribers\n",
       "price                          \n",
       "(19.82, 56.0]           2958705\n",
       "(56.0, 92.0]             802702\n",
       "(92.0, 128.0]           1067603\n",
       "(128.0, 164.0]           584622\n",
       "(164.0, 200.0]          2726678"
      ]
     },
     "execution_count": 88,
     "metadata": {},
     "output_type": "execute_result"
    }
   ],
   "source": [
    "df2"
   ]
  },
  {
   "cell_type": "code",
   "execution_count": 89,
   "metadata": {},
   "outputs": [],
   "source": [
    "df2 = df2.reset_index()"
   ]
  },
  {
   "cell_type": "code",
   "execution_count": 90,
   "metadata": {},
   "outputs": [],
   "source": [
    "df2[\"percentage\"] = round(df2[\"num_subscribers\"] * 100/ udemy[\"num_subscribers\"][udemy[\"is_paid\"] == True].sum())"
   ]
  },
  {
   "cell_type": "code",
   "execution_count": 91,
   "metadata": {},
   "outputs": [
    {
     "data": {
      "text/html": [
       "<div>\n",
       "<style scoped>\n",
       "    .dataframe tbody tr th:only-of-type {\n",
       "        vertical-align: middle;\n",
       "    }\n",
       "\n",
       "    .dataframe tbody tr th {\n",
       "        vertical-align: top;\n",
       "    }\n",
       "\n",
       "    .dataframe thead th {\n",
       "        text-align: right;\n",
       "    }\n",
       "</style>\n",
       "<table border=\"1\" class=\"dataframe\">\n",
       "  <thead>\n",
       "    <tr style=\"text-align: right;\">\n",
       "      <th></th>\n",
       "      <th>price</th>\n",
       "      <th>num_subscribers</th>\n",
       "      <th>percentage</th>\n",
       "    </tr>\n",
       "  </thead>\n",
       "  <tbody>\n",
       "    <tr>\n",
       "      <th>0</th>\n",
       "      <td>(19.82, 56.0]</td>\n",
       "      <td>2958705</td>\n",
       "      <td>36.0</td>\n",
       "    </tr>\n",
       "    <tr>\n",
       "      <th>1</th>\n",
       "      <td>(56.0, 92.0]</td>\n",
       "      <td>802702</td>\n",
       "      <td>10.0</td>\n",
       "    </tr>\n",
       "    <tr>\n",
       "      <th>2</th>\n",
       "      <td>(92.0, 128.0]</td>\n",
       "      <td>1067603</td>\n",
       "      <td>13.0</td>\n",
       "    </tr>\n",
       "    <tr>\n",
       "      <th>3</th>\n",
       "      <td>(128.0, 164.0]</td>\n",
       "      <td>584622</td>\n",
       "      <td>7.0</td>\n",
       "    </tr>\n",
       "    <tr>\n",
       "      <th>4</th>\n",
       "      <td>(164.0, 200.0]</td>\n",
       "      <td>2726678</td>\n",
       "      <td>33.0</td>\n",
       "    </tr>\n",
       "  </tbody>\n",
       "</table>\n",
       "</div>"
      ],
      "text/plain": [
       "            price  num_subscribers  percentage\n",
       "0   (19.82, 56.0]          2958705        36.0\n",
       "1    (56.0, 92.0]           802702        10.0\n",
       "2   (92.0, 128.0]          1067603        13.0\n",
       "3  (128.0, 164.0]           584622         7.0\n",
       "4  (164.0, 200.0]          2726678        33.0"
      ]
     },
     "execution_count": 91,
     "metadata": {},
     "output_type": "execute_result"
    }
   ],
   "source": [
    "#En df2 vemos la cantidad de suscriptores por rango de precios y el porcentaje que representan del total que pagaron para hacer un curso.\n",
    "df2"
   ]
  },
  {
   "cell_type": "code",
   "execution_count": 94,
   "metadata": {},
   "outputs": [],
   "source": [
    "#Paso la columna price de type category a string\n",
    "df2[\"price\"] = df2[\"price\"].astype(\"str\")"
   ]
  },
  {
   "cell_type": "code",
   "execution_count": 96,
   "metadata": {},
   "outputs": [
    {
     "data": {
      "image/png": "[encoded data removed]",
      "text/plain": [
       "<Figure size 640x480 with 1 Axes>"
      ]
     },
     "metadata": {},
     "output_type": "display_data"
    }
   ],
   "source": [
    "y = list(df2[\"price\"])\n",
    "x = list(df2[\"percentage\"])\n",
    "\n",
    "plt.barh(y,x, color = [\"green\"])\n",
    "plt.title(\"Porcentaje de ventas por rango de precio\")\n",
    "plt.xlabel(\"porcentaje %\")\n",
    "plt.ylabel(\"rangos de precio\")\n",
    "plt.show()"
   ]
  },
  {
   "cell_type": "code",
   "execution_count": 66,
   "metadata": {},
   "outputs": [],
   "source": [
    "df2.to_csv(\"udemy_precios.csv\", index=False)"
   ]
  },
  {
   "cell_type": "code",
   "execution_count": 97,
   "metadata": {},
   "outputs": [
    {
     "data": {
      "text/plain": [
       "8140310"
      ]
     },
     "execution_count": 97,
     "metadata": {},
     "output_type": "execute_result"
    }
   ],
   "source": [
    "udemy[\"num_subscribers\"][udemy[\"is_paid\"] == True].sum()"
   ]
  },
  {
   "attachments": {},
   "cell_type": "markdown",
   "metadata": {},
   "source": [
    "NIVEL DE VENTAS DE UDEMY POR NIVEL"
   ]
  },
  {
   "cell_type": "code",
   "execution_count": 98,
   "metadata": {},
   "outputs": [
    {
     "data": {
      "text/plain": [
       "All Levels            1803\n",
       "Beginner Level        1110\n",
       "Intermediate Level     391\n",
       "Expert Level            58\n",
       "Name: level, dtype: int64"
      ]
     },
     "execution_count": 98,
     "metadata": {},
     "output_type": "execute_result"
    }
   ],
   "source": [
    "udemy[\"level\"][udemy[\"is_paid\"] == True].value_counts()"
   ]
  },
  {
   "cell_type": "code",
   "execution_count": 99,
   "metadata": {},
   "outputs": [
    {
     "name": "stdout",
     "output_type": "stream",
     "text": [
      "Cantidad de suscriptores en cursos de nivel Beginner pagos:  7552437\n"
     ]
    }
   ],
   "source": [
    "#Considero a All Levels como Beginner Level porque si un Beginner Level esta habilitado para hacerlo tambien lo estará alguien con Intermediate \n",
    "#o Expert Level pero si el curso seria Intermediate o Expert Level un Beginner Level no estaria habilitado para hacerlo.\n",
    "print(\"Cantidad de suscriptores en cursos de nivel Beginner pagos: \",udemy[\"num_subscribers\"][(udemy[\"level\"].isin([\"Beginner Level\",\"All Levels\"])) & (udemy[\"is_paid\"] == True)].sum())"
   ]
  },
  {
   "cell_type": "code",
   "execution_count": 100,
   "metadata": {},
   "outputs": [
    {
     "name": "stdout",
     "output_type": "stream",
     "text": [
      "Cantidad de suscriptores en cursos de nivel Intermediate pagos: 537677\n"
     ]
    }
   ],
   "source": [
    "print(\"Cantidad de suscriptores en cursos de nivel Intermediate pagos:\",udemy[\"num_subscribers\"][(udemy[\"level\"]== \"Intermediate Level\") & (udemy[\"is_paid\"] == True)].sum())"
   ]
  },
  {
   "cell_type": "code",
   "execution_count": 101,
   "metadata": {},
   "outputs": [
    {
     "name": "stdout",
     "output_type": "stream",
     "text": [
      "Cantidad de suscriptores en cursos de nivel Expert pagos: 50196\n"
     ]
    }
   ],
   "source": [
    "print(\"Cantidad de suscriptores en cursos de nivel Expert pagos:\",udemy[\"num_subscribers\"][(udemy[\"level\"]== \"Expert Level\") & (udemy[\"is_paid\"] == True)].sum())"
   ]
  },
  {
   "cell_type": "code",
   "execution_count": 102,
   "metadata": {},
   "outputs": [
    {
     "name": "stdout",
     "output_type": "stream",
     "text": [
      "El 92.8 por ciento de los clientes de Udemy compran cursos de nivel introductorio\n"
     ]
    }
   ],
   "source": [
    "print(\"El\",round(udemy[\"num_subscribers\"][(udemy[\"level\"].isin([\"Beginner Level\",\"All Levels\"])) & (udemy[\"is_paid\"] == True)].sum() * 100/ (udemy[\"num_subscribers\"][udemy[\"is_paid\"] == True].sum()),1),\"por ciento de los clientes de Udemy compran cursos de nivel introductorio\")"
   ]
  },
  {
   "cell_type": "code",
   "execution_count": 103,
   "metadata": {},
   "outputs": [
    {
     "name": "stdout",
     "output_type": "stream",
     "text": [
      "El 6.6 por ciento de los clientes de Udemy compran cursos de nivel Intermediate\n"
     ]
    }
   ],
   "source": [
    "print(\"El\",round(udemy[\"num_subscribers\"][(udemy[\"level\"] == \"Intermediate Level\") & (udemy[\"is_paid\"] == True)].sum() * 100/ (udemy[\"num_subscribers\"][udemy[\"is_paid\"] == True].sum()),1),\"por ciento de los clientes de Udemy compran cursos de nivel Intermediate\")"
   ]
  },
  {
   "cell_type": "code",
   "execution_count": 104,
   "metadata": {},
   "outputs": [
    {
     "name": "stdout",
     "output_type": "stream",
     "text": [
      "El 0.6 por ciento de los clientes de Udemy compran cursos de nivel Expert\n"
     ]
    }
   ],
   "source": [
    "print(\"El\",round(udemy[\"num_subscribers\"][(udemy[\"level\"] == \"Expert Level\") & (udemy[\"is_paid\"] == True)].sum() * 100/ (udemy[\"num_subscribers\"][udemy[\"is_paid\"] == True].sum()),1),\"por ciento de los clientes de Udemy compran cursos de nivel Expert\")"
   ]
  },
  {
   "cell_type": "code",
   "execution_count": 105,
   "metadata": {},
   "outputs": [],
   "source": [
    "udemy_nivel = pd.DataFrame({\"nivel\":[\"introductorio\",\"intermedio\",\"avanzado\"],\n",
    "\"numero_suscriptores\":[7552437,537677,50196],\n",
    "\"porcentaje\":[92.8,6.6,0.6]})"
   ]
  },
  {
   "cell_type": "code",
   "execution_count": 106,
   "metadata": {},
   "outputs": [
    {
     "data": {
      "text/html": [
       "<div>\n",
       "<style scoped>\n",
       "    .dataframe tbody tr th:only-of-type {\n",
       "        vertical-align: middle;\n",
       "    }\n",
       "\n",
       "    .dataframe tbody tr th {\n",
       "        vertical-align: top;\n",
       "    }\n",
       "\n",
       "    .dataframe thead th {\n",
       "        text-align: right;\n",
       "    }\n",
       "</style>\n",
       "<table border=\"1\" class=\"dataframe\">\n",
       "  <thead>\n",
       "    <tr style=\"text-align: right;\">\n",
       "      <th></th>\n",
       "      <th>nivel</th>\n",
       "      <th>numero_suscriptores</th>\n",
       "      <th>porcentaje</th>\n",
       "    </tr>\n",
       "  </thead>\n",
       "  <tbody>\n",
       "    <tr>\n",
       "      <th>0</th>\n",
       "      <td>introductorio</td>\n",
       "      <td>7552437</td>\n",
       "      <td>92.8</td>\n",
       "    </tr>\n",
       "    <tr>\n",
       "      <th>1</th>\n",
       "      <td>intermedio</td>\n",
       "      <td>537677</td>\n",
       "      <td>6.6</td>\n",
       "    </tr>\n",
       "    <tr>\n",
       "      <th>2</th>\n",
       "      <td>avanzado</td>\n",
       "      <td>50196</td>\n",
       "      <td>0.6</td>\n",
       "    </tr>\n",
       "  </tbody>\n",
       "</table>\n",
       "</div>"
      ],
      "text/plain": [
       "           nivel  numero_suscriptores  porcentaje\n",
       "0  introductorio              7552437        92.8\n",
       "1     intermedio               537677         6.6\n",
       "2       avanzado                50196         0.6"
      ]
     },
     "execution_count": 106,
     "metadata": {},
     "output_type": "execute_result"
    }
   ],
   "source": [
    "udemy_nivel"
   ]
  },
  {
   "cell_type": "code",
   "execution_count": 107,
   "metadata": {},
   "outputs": [
    {
     "data": {
      "image/png": "[encoded data removed]",
      "text/plain": [
       "<Figure size 640x480 with 1 Axes>"
      ]
     },
     "metadata": {},
     "output_type": "display_data"
    }
   ],
   "source": [
    "niveles = list(udemy_nivel[\"nivel\"])\n",
    "b = list(udemy_nivel[\"porcentaje\"])\n",
    "fig1, ax1 = plt.subplots()\n",
    "ax1.pie(b, labels = niveles, autopct= \"%1.1f%%\")\n",
    "ax1.axis(\"equal\")\n",
    "plt.title(\"Porcentaje de ventas por nivel del curso\")\n",
    "plt.legend()\n",
    "plt.show()"
   ]
  },
  {
   "cell_type": "code",
   "execution_count": 77,
   "metadata": {},
   "outputs": [],
   "source": [
    "udemy_nivel.to_csv(\"udemy_nivel.csv\", index=False)"
   ]
  },
  {
   "attachments": {},
   "cell_type": "markdown",
   "metadata": {},
   "source": [
    "NIVEL DE VENTAS DE UDEMY POR IDIOMA"
   ]
  },
  {
   "cell_type": "code",
   "execution_count": 108,
   "metadata": {},
   "outputs": [
    {
     "data": {
      "text/html": [
       "<div>\n",
       "<style scoped>\n",
       "    .dataframe tbody tr th:only-of-type {\n",
       "        vertical-align: middle;\n",
       "    }\n",
       "\n",
       "    .dataframe tbody tr th {\n",
       "        vertical-align: top;\n",
       "    }\n",
       "\n",
       "    .dataframe thead th {\n",
       "        text-align: right;\n",
       "    }\n",
       "</style>\n",
       "<table border=\"1\" class=\"dataframe\">\n",
       "  <thead>\n",
       "    <tr style=\"text-align: right;\">\n",
       "      <th></th>\n",
       "      <th>course_id</th>\n",
       "      <th>course_title</th>\n",
       "      <th>url</th>\n",
       "      <th>is_paid</th>\n",
       "      <th>price</th>\n",
       "      <th>num_subscribers</th>\n",
       "      <th>num_reviews</th>\n",
       "      <th>num_lectures</th>\n",
       "      <th>level</th>\n",
       "      <th>content_duration</th>\n",
       "      <th>published_timestamp</th>\n",
       "      <th>subject</th>\n",
       "    </tr>\n",
       "  </thead>\n",
       "  <tbody>\n",
       "    <tr>\n",
       "      <th>0</th>\n",
       "      <td>1070968</td>\n",
       "      <td>Ultimate Investment Banking Course</td>\n",
       "      <td>https://www.udemy.com/ultimate-investment-bank...</td>\n",
       "      <td>True</td>\n",
       "      <td>200</td>\n",
       "      <td>2147</td>\n",
       "      <td>23</td>\n",
       "      <td>51</td>\n",
       "      <td>All Levels</td>\n",
       "      <td>1.5</td>\n",
       "      <td>2017-01-18T20:58:58Z</td>\n",
       "      <td>Business Finance</td>\n",
       "    </tr>\n",
       "    <tr>\n",
       "      <th>1</th>\n",
       "      <td>1113822</td>\n",
       "      <td>Complete GST Course &amp; Certification - Grow You...</td>\n",
       "      <td>https://www.udemy.com/goods-and-services-tax/</td>\n",
       "      <td>True</td>\n",
       "      <td>75</td>\n",
       "      <td>2792</td>\n",
       "      <td>923</td>\n",
       "      <td>274</td>\n",
       "      <td>All Levels</td>\n",
       "      <td>39.0</td>\n",
       "      <td>2017-03-09T16:34:20Z</td>\n",
       "      <td>Business Finance</td>\n",
       "    </tr>\n",
       "    <tr>\n",
       "      <th>2</th>\n",
       "      <td>1006314</td>\n",
       "      <td>Financial Modeling for Business Analysts and C...</td>\n",
       "      <td>https://www.udemy.com/financial-modeling-for-b...</td>\n",
       "      <td>True</td>\n",
       "      <td>45</td>\n",
       "      <td>2174</td>\n",
       "      <td>74</td>\n",
       "      <td>51</td>\n",
       "      <td>Intermediate Level</td>\n",
       "      <td>2.5</td>\n",
       "      <td>2016-12-19T19:26:30Z</td>\n",
       "      <td>Business Finance</td>\n",
       "    </tr>\n",
       "    <tr>\n",
       "      <th>3</th>\n",
       "      <td>1210588</td>\n",
       "      <td>Beginner to Pro - Financial Analysis in Excel ...</td>\n",
       "      <td>https://www.udemy.com/complete-excel-finance-c...</td>\n",
       "      <td>True</td>\n",
       "      <td>95</td>\n",
       "      <td>2451</td>\n",
       "      <td>11</td>\n",
       "      <td>36</td>\n",
       "      <td>All Levels</td>\n",
       "      <td>3.0</td>\n",
       "      <td>2017-05-30T20:07:24Z</td>\n",
       "      <td>Business Finance</td>\n",
       "    </tr>\n",
       "    <tr>\n",
       "      <th>4</th>\n",
       "      <td>1011058</td>\n",
       "      <td>How To Maximize Your Profits Trading Options</td>\n",
       "      <td>https://www.udemy.com/how-to-maximize-your-pro...</td>\n",
       "      <td>True</td>\n",
       "      <td>200</td>\n",
       "      <td>1276</td>\n",
       "      <td>45</td>\n",
       "      <td>26</td>\n",
       "      <td>Intermediate Level</td>\n",
       "      <td>2.0</td>\n",
       "      <td>2016-12-13T14:57:18Z</td>\n",
       "      <td>Business Finance</td>\n",
       "    </tr>\n",
       "  </tbody>\n",
       "</table>\n",
       "</div>"
      ],
      "text/plain": [
       "   course_id                                       course_title  \\\n",
       "0    1070968                 Ultimate Investment Banking Course   \n",
       "1    1113822  Complete GST Course & Certification - Grow You...   \n",
       "2    1006314  Financial Modeling for Business Analysts and C...   \n",
       "3    1210588  Beginner to Pro - Financial Analysis in Excel ...   \n",
       "4    1011058       How To Maximize Your Profits Trading Options   \n",
       "\n",
       "                                                 url  is_paid  price  \\\n",
       "0  https://www.udemy.com/ultimate-investment-bank...     True    200   \n",
       "1      https://www.udemy.com/goods-and-services-tax/     True     75   \n",
       "2  https://www.udemy.com/financial-modeling-for-b...     True     45   \n",
       "3  https://www.udemy.com/complete-excel-finance-c...     True     95   \n",
       "4  https://www.udemy.com/how-to-maximize-your-pro...     True    200   \n",
       "\n",
       "   num_subscribers  num_reviews  num_lectures               level  \\\n",
       "0             2147           23            51          All Levels   \n",
       "1             2792          923           274          All Levels   \n",
       "2             2174           74            51  Intermediate Level   \n",
       "3             2451           11            36          All Levels   \n",
       "4             1276           45            26  Intermediate Level   \n",
       "\n",
       "   content_duration   published_timestamp           subject  \n",
       "0               1.5  2017-01-18T20:58:58Z  Business Finance  \n",
       "1              39.0  2017-03-09T16:34:20Z  Business Finance  \n",
       "2               2.5  2016-12-19T19:26:30Z  Business Finance  \n",
       "3               3.0  2017-05-30T20:07:24Z  Business Finance  \n",
       "4               2.0  2016-12-13T14:57:18Z  Business Finance  "
      ]
     },
     "execution_count": 108,
     "metadata": {},
     "output_type": "execute_result"
    }
   ],
   "source": [
    "udemy.head()"
   ]
  },
  {
   "attachments": {},
   "cell_type": "markdown",
   "metadata": {},
   "source": [
    "El dataset de Udemy no tiene los idiomas, utilizo langdetect para obtener el idioma en que esta escrito el titulo del curso y por ende el idioma del curso. Esta forma de obtener el idioma no es 100% exacta ya que hay veces que no coincide la detección con el idioma real pero es bastante fiable y me sirve para ver que la gran mayoria de cursos se imparten en ingles."
   ]
  },
  {
   "cell_type": "code",
   "execution_count": 109,
   "metadata": {},
   "outputs": [],
   "source": [
    "from langdetect import detect"
   ]
  },
  {
   "cell_type": "code",
   "execution_count": 110,
   "metadata": {},
   "outputs": [],
   "source": [
    "idiomas = []\n",
    "for title in udemy[\"course_title\"]:\n",
    "    idiomas.append(detect(title))"
   ]
  },
  {
   "cell_type": "code",
   "execution_count": 111,
   "metadata": {},
   "outputs": [],
   "source": [
    "udemy[\"language\"] = idiomas"
   ]
  },
  {
   "cell_type": "code",
   "execution_count": 112,
   "metadata": {},
   "outputs": [
    {
     "data": {
      "text/html": [
       "<div>\n",
       "<style scoped>\n",
       "    .dataframe tbody tr th:only-of-type {\n",
       "        vertical-align: middle;\n",
       "    }\n",
       "\n",
       "    .dataframe tbody tr th {\n",
       "        vertical-align: top;\n",
       "    }\n",
       "\n",
       "    .dataframe thead th {\n",
       "        text-align: right;\n",
       "    }\n",
       "</style>\n",
       "<table border=\"1\" class=\"dataframe\">\n",
       "  <thead>\n",
       "    <tr style=\"text-align: right;\">\n",
       "      <th></th>\n",
       "      <th>course_id</th>\n",
       "      <th>course_title</th>\n",
       "      <th>url</th>\n",
       "      <th>is_paid</th>\n",
       "      <th>price</th>\n",
       "      <th>num_subscribers</th>\n",
       "      <th>num_reviews</th>\n",
       "      <th>num_lectures</th>\n",
       "      <th>level</th>\n",
       "      <th>content_duration</th>\n",
       "      <th>published_timestamp</th>\n",
       "      <th>subject</th>\n",
       "      <th>language</th>\n",
       "    </tr>\n",
       "  </thead>\n",
       "  <tbody>\n",
       "    <tr>\n",
       "      <th>0</th>\n",
       "      <td>1070968</td>\n",
       "      <td>Ultimate Investment Banking Course</td>\n",
       "      <td>https://www.udemy.com/ultimate-investment-bank...</td>\n",
       "      <td>True</td>\n",
       "      <td>200</td>\n",
       "      <td>2147</td>\n",
       "      <td>23</td>\n",
       "      <td>51</td>\n",
       "      <td>All Levels</td>\n",
       "      <td>1.5</td>\n",
       "      <td>2017-01-18T20:58:58Z</td>\n",
       "      <td>Business Finance</td>\n",
       "      <td>en</td>\n",
       "    </tr>\n",
       "    <tr>\n",
       "      <th>1</th>\n",
       "      <td>1113822</td>\n",
       "      <td>Complete GST Course &amp; Certification - Grow You...</td>\n",
       "      <td>https://www.udemy.com/goods-and-services-tax/</td>\n",
       "      <td>True</td>\n",
       "      <td>75</td>\n",
       "      <td>2792</td>\n",
       "      <td>923</td>\n",
       "      <td>274</td>\n",
       "      <td>All Levels</td>\n",
       "      <td>39.0</td>\n",
       "      <td>2017-03-09T16:34:20Z</td>\n",
       "      <td>Business Finance</td>\n",
       "      <td>en</td>\n",
       "    </tr>\n",
       "    <tr>\n",
       "      <th>2</th>\n",
       "      <td>1006314</td>\n",
       "      <td>Financial Modeling for Business Analysts and C...</td>\n",
       "      <td>https://www.udemy.com/financial-modeling-for-b...</td>\n",
       "      <td>True</td>\n",
       "      <td>45</td>\n",
       "      <td>2174</td>\n",
       "      <td>74</td>\n",
       "      <td>51</td>\n",
       "      <td>Intermediate Level</td>\n",
       "      <td>2.5</td>\n",
       "      <td>2016-12-19T19:26:30Z</td>\n",
       "      <td>Business Finance</td>\n",
       "      <td>en</td>\n",
       "    </tr>\n",
       "    <tr>\n",
       "      <th>3</th>\n",
       "      <td>1210588</td>\n",
       "      <td>Beginner to Pro - Financial Analysis in Excel ...</td>\n",
       "      <td>https://www.udemy.com/complete-excel-finance-c...</td>\n",
       "      <td>True</td>\n",
       "      <td>95</td>\n",
       "      <td>2451</td>\n",
       "      <td>11</td>\n",
       "      <td>36</td>\n",
       "      <td>All Levels</td>\n",
       "      <td>3.0</td>\n",
       "      <td>2017-05-30T20:07:24Z</td>\n",
       "      <td>Business Finance</td>\n",
       "      <td>en</td>\n",
       "    </tr>\n",
       "    <tr>\n",
       "      <th>4</th>\n",
       "      <td>1011058</td>\n",
       "      <td>How To Maximize Your Profits Trading Options</td>\n",
       "      <td>https://www.udemy.com/how-to-maximize-your-pro...</td>\n",
       "      <td>True</td>\n",
       "      <td>200</td>\n",
       "      <td>1276</td>\n",
       "      <td>45</td>\n",
       "      <td>26</td>\n",
       "      <td>Intermediate Level</td>\n",
       "      <td>2.0</td>\n",
       "      <td>2016-12-13T14:57:18Z</td>\n",
       "      <td>Business Finance</td>\n",
       "      <td>en</td>\n",
       "    </tr>\n",
       "  </tbody>\n",
       "</table>\n",
       "</div>"
      ],
      "text/plain": [
       "   course_id                                       course_title  \\\n",
       "0    1070968                 Ultimate Investment Banking Course   \n",
       "1    1113822  Complete GST Course & Certification - Grow You...   \n",
       "2    1006314  Financial Modeling for Business Analysts and C...   \n",
       "3    1210588  Beginner to Pro - Financial Analysis in Excel ...   \n",
       "4    1011058       How To Maximize Your Profits Trading Options   \n",
       "\n",
       "                                                 url  is_paid  price  \\\n",
       "0  https://www.udemy.com/ultimate-investment-bank...     True    200   \n",
       "1      https://www.udemy.com/goods-and-services-tax/     True     75   \n",
       "2  https://www.udemy.com/financial-modeling-for-b...     True     45   \n",
       "3  https://www.udemy.com/complete-excel-finance-c...     True     95   \n",
       "4  https://www.udemy.com/how-to-maximize-your-pro...     True    200   \n",
       "\n",
       "   num_subscribers  num_reviews  num_lectures               level  \\\n",
       "0             2147           23            51          All Levels   \n",
       "1             2792          923           274          All Levels   \n",
       "2             2174           74            51  Intermediate Level   \n",
       "3             2451           11            36          All Levels   \n",
       "4             1276           45            26  Intermediate Level   \n",
       "\n",
       "   content_duration   published_timestamp           subject language  \n",
       "0               1.5  2017-01-18T20:58:58Z  Business Finance       en  \n",
       "1              39.0  2017-03-09T16:34:20Z  Business Finance       en  \n",
       "2               2.5  2016-12-19T19:26:30Z  Business Finance       en  \n",
       "3               3.0  2017-05-30T20:07:24Z  Business Finance       en  \n",
       "4               2.0  2016-12-13T14:57:18Z  Business Finance       en  "
      ]
     },
     "execution_count": 112,
     "metadata": {},
     "output_type": "execute_result"
    }
   ],
   "source": [
    "udemy.head()"
   ]
  },
  {
   "cell_type": "code",
   "execution_count": 113,
   "metadata": {},
   "outputs": [
    {
     "data": {
      "text/plain": [
       "en       2791\n",
       "es        130\n",
       "de         85\n",
       "pt         60\n",
       "ca         50\n",
       "fr         43\n",
       "it         42\n",
       "no         35\n",
       "ja         27\n",
       "tl         19\n",
       "nl         18\n",
       "af         10\n",
       "da          8\n",
       "ar          7\n",
       "ro          7\n",
       "et          5\n",
       "sv          5\n",
       "ru          3\n",
       "zh-cn       3\n",
       "tr          3\n",
       "id          2\n",
       "sw          2\n",
       "vi          2\n",
       "hr          2\n",
       "pl          1\n",
       "ko          1\n",
       "th          1\n",
       "Name: language, dtype: int64"
      ]
     },
     "execution_count": 113,
     "metadata": {},
     "output_type": "execute_result"
    }
   ],
   "source": [
    "udemy[\"language\"][udemy[\"is_paid\"] == True].value_counts()"
   ]
  },
  {
   "cell_type": "code",
   "execution_count": 114,
   "metadata": {},
   "outputs": [
    {
     "name": "stdout",
     "output_type": "stream",
     "text": [
      "El 93.4 por ciento de los clientes de udemy compraron cursos en ingles\n"
     ]
    }
   ],
   "source": [
    "print(\"El\",round((udemy[\"num_subscribers\"][(udemy[\"is_paid\"]== True) & (udemy[\"language\"] == \"en\")].sum() * 100)/ udemy[\"num_subscribers\"][udemy[\"is_paid\"] == True].sum(),1),\"por ciento de los clientes de udemy compraron cursos en ingles\")"
   ]
  },
  {
   "attachments": {},
   "cell_type": "markdown",
   "metadata": {},
   "source": [
    "El 7.1% restante de los clientes de udemy compro cursos que no son en ingles."
   ]
  },
  {
   "cell_type": "code",
   "execution_count": 115,
   "metadata": {},
   "outputs": [],
   "source": [
    "udemy_idiomas = pd.DataFrame({\"idioma\":[\"ingles\",\"resto\"],\n",
    "                            \"porcentaje\":[92.8,7.2]})"
   ]
  },
  {
   "cell_type": "code",
   "execution_count": 116,
   "metadata": {},
   "outputs": [
    {
     "data": {
      "text/html": [
       "<div>\n",
       "<style scoped>\n",
       "    .dataframe tbody tr th:only-of-type {\n",
       "        vertical-align: middle;\n",
       "    }\n",
       "\n",
       "    .dataframe tbody tr th {\n",
       "        vertical-align: top;\n",
       "    }\n",
       "\n",
       "    .dataframe thead th {\n",
       "        text-align: right;\n",
       "    }\n",
       "</style>\n",
       "<table border=\"1\" class=\"dataframe\">\n",
       "  <thead>\n",
       "    <tr style=\"text-align: right;\">\n",
       "      <th></th>\n",
       "      <th>idioma</th>\n",
       "      <th>porcentaje</th>\n",
       "    </tr>\n",
       "  </thead>\n",
       "  <tbody>\n",
       "    <tr>\n",
       "      <th>0</th>\n",
       "      <td>ingles</td>\n",
       "      <td>92.8</td>\n",
       "    </tr>\n",
       "    <tr>\n",
       "      <th>1</th>\n",
       "      <td>resto</td>\n",
       "      <td>7.2</td>\n",
       "    </tr>\n",
       "  </tbody>\n",
       "</table>\n",
       "</div>"
      ],
      "text/plain": [
       "   idioma  porcentaje\n",
       "0  ingles        92.8\n",
       "1   resto         7.2"
      ]
     },
     "execution_count": 116,
     "metadata": {},
     "output_type": "execute_result"
    }
   ],
   "source": [
    "udemy_idiomas"
   ]
  },
  {
   "cell_type": "code",
   "execution_count": 117,
   "metadata": {},
   "outputs": [
    {
     "data": {
      "image/png": "[encoded data removed]",
      "text/plain": [
       "<Figure size 640x480 with 1 Axes>"
      ]
     },
     "metadata": {},
     "output_type": "display_data"
    }
   ],
   "source": [
    "idiomas = list(udemy_idiomas[\"idioma\"])\n",
    "sizes = list(udemy_idiomas[\"porcentaje\"])\n",
    "fig1, ax1 = plt.subplots()\n",
    "ax1.pie(sizes, labels = idiomas, autopct= \"%1.1f%%\")\n",
    "ax1.axis(\"equal\")\n",
    "plt.title(\"Porcentaje de ventas por idioma del curso\")\n",
    "plt.legend()\n",
    "plt.show()"
   ]
  },
  {
   "cell_type": "code",
   "execution_count": 87,
   "metadata": {},
   "outputs": [],
   "source": [
    "udemy_idiomas.to_csv(\"udemy_idiomas.csv\", index = False)"
   ]
  },
  {
   "attachments": {},
   "cell_type": "markdown",
   "metadata": {},
   "source": [
    "COURSERA"
   ]
  },
  {
   "attachments": {},
   "cell_type": "markdown",
   "metadata": {},
   "source": [
    "De coursera la información que puedo aproximar es como se segmenta el nivel de ventas por idioma, más del 80 por ciento de los cursos se imparten en ingles por lo que se induce que la mayoria de los cursos vendidos sean en esta lengua."
   ]
  },
  {
   "cell_type": "code",
   "execution_count": 132,
   "metadata": {},
   "outputs": [],
   "source": [
    "idiomas_coursera = []\n",
    "for titulo in coursera_courses[\"name\"]:\n",
    "    idiomas_coursera.append(detect(titulo))"
   ]
  },
  {
   "cell_type": "code",
   "execution_count": 133,
   "metadata": {},
   "outputs": [],
   "source": [
    "coursera_courses[\"language\"] = idiomas_coursera"
   ]
  },
  {
   "cell_type": "code",
   "execution_count": 134,
   "metadata": {},
   "outputs": [
    {
     "data": {
      "text/plain": [
       "en    523\n",
       "es     25\n",
       "ca     11\n",
       "fr     11\n",
       "it     10\n",
       "de     10\n",
       "nl      5\n",
       "no      5\n",
       "ru      5\n",
       "tl      4\n",
       "id      3\n",
       "ro      3\n",
       "da      2\n",
       "lt      2\n",
       "af      2\n",
       "pt      2\n",
       "Name: language, dtype: int64"
      ]
     },
     "execution_count": 134,
     "metadata": {},
     "output_type": "execute_result"
    }
   ],
   "source": [
    "coursera_courses[\"language\"].value_counts()"
   ]
  },
  {
   "cell_type": "code",
   "execution_count": 135,
   "metadata": {},
   "outputs": [
    {
     "name": "stdout",
     "output_type": "stream",
     "text": [
      "El 83.9 por ciento de los cursos de la plataforma coursera se dictan en ingles\n"
     ]
    }
   ],
   "source": [
    "print(\"El\",round((len(coursera_courses[coursera_courses[\"language\"] == \"en\"])/ len(coursera_courses))*100,1),\"por ciento de los cursos de la plataforma coursera se dictan en ingles\")"
   ]
  },
  {
   "cell_type": "code",
   "execution_count": 138,
   "metadata": {},
   "outputs": [],
   "source": [
    "coursera_idiomas = pd.DataFrame({\"idioma\":[\"ingles\",\"resto de idiomas\"],\n",
    "\"porcentaje\":[83.9,16.1]})"
   ]
  },
  {
   "cell_type": "code",
   "execution_count": 139,
   "metadata": {},
   "outputs": [
    {
     "data": {
      "text/html": [
       "<div>\n",
       "<style scoped>\n",
       "    .dataframe tbody tr th:only-of-type {\n",
       "        vertical-align: middle;\n",
       "    }\n",
       "\n",
       "    .dataframe tbody tr th {\n",
       "        vertical-align: top;\n",
       "    }\n",
       "\n",
       "    .dataframe thead th {\n",
       "        text-align: right;\n",
       "    }\n",
       "</style>\n",
       "<table border=\"1\" class=\"dataframe\">\n",
       "  <thead>\n",
       "    <tr style=\"text-align: right;\">\n",
       "      <th></th>\n",
       "      <th>idioma</th>\n",
       "      <th>porcentaje</th>\n",
       "    </tr>\n",
       "  </thead>\n",
       "  <tbody>\n",
       "    <tr>\n",
       "      <th>0</th>\n",
       "      <td>ingles</td>\n",
       "      <td>83.9</td>\n",
       "    </tr>\n",
       "    <tr>\n",
       "      <th>1</th>\n",
       "      <td>resto de idiomas</td>\n",
       "      <td>16.1</td>\n",
       "    </tr>\n",
       "  </tbody>\n",
       "</table>\n",
       "</div>"
      ],
      "text/plain": [
       "             idioma  porcentaje\n",
       "0            ingles        83.9\n",
       "1  resto de idiomas        16.1"
      ]
     },
     "execution_count": 139,
     "metadata": {},
     "output_type": "execute_result"
    }
   ],
   "source": [
    "coursera_idiomas"
   ]
  },
  {
   "cell_type": "code",
   "execution_count": 140,
   "metadata": {},
   "outputs": [
    {
     "data": {
      "image/png": "[encoded data removed]",
      "text/plain": [
       "<Figure size 640x480 with 1 Axes>"
      ]
     },
     "metadata": {},
     "output_type": "display_data"
    }
   ],
   "source": [
    "idiomas = list(coursera_idiomas[\"idioma\"])\n",
    "sizes = list(coursera_idiomas[\"porcentaje\"])\n",
    "fig1, ax1 = plt.subplots()\n",
    "ax1.pie(sizes, labels = idiomas, autopct= \"%1.1f%%\")\n",
    "ax1.axis(\"equal\")\n",
    "plt.title(\"Porcentaje de ventas por idioma del curso\")\n",
    "plt.legend()\n",
    "plt.show()"
   ]
  },
  {
   "cell_type": "code",
   "execution_count": 141,
   "metadata": {},
   "outputs": [],
   "source": [
    "coursera_idiomas.to_csv(\"coursera_idiomas.csv\", index = False)"
   ]
  },
  {
   "attachments": {},
   "cell_type": "markdown",
   "metadata": {},
   "source": [
    "WORDCLOUD"
   ]
  },
  {
   "cell_type": "code",
   "execution_count": 96,
   "metadata": {},
   "outputs": [
    {
     "data": {
      "text/html": [
       "<div>\n",
       "<style scoped>\n",
       "    .dataframe tbody tr th:only-of-type {\n",
       "        vertical-align: middle;\n",
       "    }\n",
       "\n",
       "    .dataframe tbody tr th {\n",
       "        vertical-align: top;\n",
       "    }\n",
       "\n",
       "    .dataframe thead th {\n",
       "        text-align: right;\n",
       "    }\n",
       "</style>\n",
       "<table border=\"1\" class=\"dataframe\">\n",
       "  <thead>\n",
       "    <tr style=\"text-align: right;\">\n",
       "      <th></th>\n",
       "      <th>course_id</th>\n",
       "      <th>course_title</th>\n",
       "      <th>url</th>\n",
       "      <th>is_paid</th>\n",
       "      <th>price</th>\n",
       "      <th>num_subscribers</th>\n",
       "      <th>num_reviews</th>\n",
       "      <th>num_lectures</th>\n",
       "      <th>level</th>\n",
       "      <th>content_duration</th>\n",
       "      <th>published_timestamp</th>\n",
       "      <th>subject</th>\n",
       "      <th>language</th>\n",
       "    </tr>\n",
       "  </thead>\n",
       "  <tbody>\n",
       "    <tr>\n",
       "      <th>0</th>\n",
       "      <td>1070968</td>\n",
       "      <td>Ultimate Investment Banking Course</td>\n",
       "      <td>https://www.udemy.com/ultimate-investment-bank...</td>\n",
       "      <td>True</td>\n",
       "      <td>200</td>\n",
       "      <td>2147</td>\n",
       "      <td>23</td>\n",
       "      <td>51</td>\n",
       "      <td>All Levels</td>\n",
       "      <td>1.5</td>\n",
       "      <td>2017-01-18T20:58:58Z</td>\n",
       "      <td>Business Finance</td>\n",
       "      <td>en</td>\n",
       "    </tr>\n",
       "    <tr>\n",
       "      <th>1</th>\n",
       "      <td>1113822</td>\n",
       "      <td>Complete GST Course &amp; Certification - Grow You...</td>\n",
       "      <td>https://www.udemy.com/goods-and-services-tax/</td>\n",
       "      <td>True</td>\n",
       "      <td>75</td>\n",
       "      <td>2792</td>\n",
       "      <td>923</td>\n",
       "      <td>274</td>\n",
       "      <td>All Levels</td>\n",
       "      <td>39.0</td>\n",
       "      <td>2017-03-09T16:34:20Z</td>\n",
       "      <td>Business Finance</td>\n",
       "      <td>en</td>\n",
       "    </tr>\n",
       "    <tr>\n",
       "      <th>2</th>\n",
       "      <td>1006314</td>\n",
       "      <td>Financial Modeling for Business Analysts and C...</td>\n",
       "      <td>https://www.udemy.com/financial-modeling-for-b...</td>\n",
       "      <td>True</td>\n",
       "      <td>45</td>\n",
       "      <td>2174</td>\n",
       "      <td>74</td>\n",
       "      <td>51</td>\n",
       "      <td>Intermediate Level</td>\n",
       "      <td>2.5</td>\n",
       "      <td>2016-12-19T19:26:30Z</td>\n",
       "      <td>Business Finance</td>\n",
       "      <td>en</td>\n",
       "    </tr>\n",
       "    <tr>\n",
       "      <th>3</th>\n",
       "      <td>1210588</td>\n",
       "      <td>Beginner to Pro - Financial Analysis in Excel ...</td>\n",
       "      <td>https://www.udemy.com/complete-excel-finance-c...</td>\n",
       "      <td>True</td>\n",
       "      <td>95</td>\n",
       "      <td>2451</td>\n",
       "      <td>11</td>\n",
       "      <td>36</td>\n",
       "      <td>All Levels</td>\n",
       "      <td>3.0</td>\n",
       "      <td>2017-05-30T20:07:24Z</td>\n",
       "      <td>Business Finance</td>\n",
       "      <td>en</td>\n",
       "    </tr>\n",
       "    <tr>\n",
       "      <th>4</th>\n",
       "      <td>1011058</td>\n",
       "      <td>How To Maximize Your Profits Trading Options</td>\n",
       "      <td>https://www.udemy.com/how-to-maximize-your-pro...</td>\n",
       "      <td>True</td>\n",
       "      <td>200</td>\n",
       "      <td>1276</td>\n",
       "      <td>45</td>\n",
       "      <td>26</td>\n",
       "      <td>Intermediate Level</td>\n",
       "      <td>2.0</td>\n",
       "      <td>2016-12-13T14:57:18Z</td>\n",
       "      <td>Business Finance</td>\n",
       "      <td>en</td>\n",
       "    </tr>\n",
       "  </tbody>\n",
       "</table>\n",
       "</div>"
      ],
      "text/plain": [
       "   course_id                                       course_title  \\\n",
       "0    1070968                 Ultimate Investment Banking Course   \n",
       "1    1113822  Complete GST Course & Certification - Grow You...   \n",
       "2    1006314  Financial Modeling for Business Analysts and C...   \n",
       "3    1210588  Beginner to Pro - Financial Analysis in Excel ...   \n",
       "4    1011058       How To Maximize Your Profits Trading Options   \n",
       "\n",
       "                                                 url  is_paid  price  \\\n",
       "0  https://www.udemy.com/ultimate-investment-bank...     True    200   \n",
       "1      https://www.udemy.com/goods-and-services-tax/     True     75   \n",
       "2  https://www.udemy.com/financial-modeling-for-b...     True     45   \n",
       "3  https://www.udemy.com/complete-excel-finance-c...     True     95   \n",
       "4  https://www.udemy.com/how-to-maximize-your-pro...     True    200   \n",
       "\n",
       "   num_subscribers  num_reviews  num_lectures               level  \\\n",
       "0             2147           23            51          All Levels   \n",
       "1             2792          923           274          All Levels   \n",
       "2             2174           74            51  Intermediate Level   \n",
       "3             2451           11            36          All Levels   \n",
       "4             1276           45            26  Intermediate Level   \n",
       "\n",
       "   content_duration   published_timestamp           subject language  \n",
       "0               1.5  2017-01-18T20:58:58Z  Business Finance       en  \n",
       "1              39.0  2017-03-09T16:34:20Z  Business Finance       en  \n",
       "2               2.5  2016-12-19T19:26:30Z  Business Finance       en  \n",
       "3               3.0  2017-05-30T20:07:24Z  Business Finance       en  \n",
       "4               2.0  2016-12-13T14:57:18Z  Business Finance       en  "
      ]
     },
     "execution_count": 96,
     "metadata": {},
     "output_type": "execute_result"
    }
   ],
   "source": [
    "udemy.head()"
   ]
  },
  {
   "attachments": {},
   "cell_type": "markdown",
   "metadata": {},
   "source": [
    "Se nos solicita un WordCloud de las palabras clave que más se repiten dentro del título."
   ]
  },
  {
   "cell_type": "code",
   "execution_count": 92,
   "metadata": {},
   "outputs": [],
   "source": [
    "#Primero voy a hacer un dataframe de una columna uniendo las columnas que contienen los titulos de los cursos de cada plataforma.\n",
    "series1 = pd.Series(coursera_courses[\"name\"])\n",
    "series2 = pd.Series(edx[\"title\"])\n",
    "series3 = pd.Series(udemy[\"course_title\"])\n",
    "df_words = pd.concat([series1, series2, series3], axis = 0)"
   ]
  },
  {
   "cell_type": "code",
   "execution_count": 93,
   "metadata": {},
   "outputs": [],
   "source": [
    "df_words = pd.DataFrame(df_words, columns = [\"titulo\"])"
   ]
  },
  {
   "cell_type": "code",
   "execution_count": 94,
   "metadata": {},
   "outputs": [
    {
     "data": {
      "text/html": [
       "<div>\n",
       "<style scoped>\n",
       "    .dataframe tbody tr th:only-of-type {\n",
       "        vertical-align: middle;\n",
       "    }\n",
       "\n",
       "    .dataframe tbody tr th {\n",
       "        vertical-align: top;\n",
       "    }\n",
       "\n",
       "    .dataframe thead th {\n",
       "        text-align: right;\n",
       "    }\n",
       "</style>\n",
       "<table border=\"1\" class=\"dataframe\">\n",
       "  <thead>\n",
       "    <tr style=\"text-align: right;\">\n",
       "      <th></th>\n",
       "      <th>titulo</th>\n",
       "    </tr>\n",
       "  </thead>\n",
       "  <tbody>\n",
       "    <tr>\n",
       "      <th>0</th>\n",
       "      <td>Machine Learning</td>\n",
       "    </tr>\n",
       "    <tr>\n",
       "      <th>1</th>\n",
       "      <td>Indigenous Canada</td>\n",
       "    </tr>\n",
       "    <tr>\n",
       "      <th>2</th>\n",
       "      <td>The Science of Well-Being</td>\n",
       "    </tr>\n",
       "    <tr>\n",
       "      <th>3</th>\n",
       "      <td>Technical Support Fundamentals</td>\n",
       "    </tr>\n",
       "    <tr>\n",
       "      <th>4</th>\n",
       "      <td>Become a CBRS Certified Professional Installer...</td>\n",
       "    </tr>\n",
       "    <tr>\n",
       "      <th>...</th>\n",
       "      <td>...</td>\n",
       "    </tr>\n",
       "    <tr>\n",
       "      <th>3673</th>\n",
       "      <td>Learn jQuery from Scratch - Master of JavaScri...</td>\n",
       "    </tr>\n",
       "    <tr>\n",
       "      <th>3674</th>\n",
       "      <td>How To Design A WordPress Website With No Codi...</td>\n",
       "    </tr>\n",
       "    <tr>\n",
       "      <th>3675</th>\n",
       "      <td>Learn and Build using Polymer</td>\n",
       "    </tr>\n",
       "    <tr>\n",
       "      <th>3676</th>\n",
       "      <td>CSS Animations: Create Amazing Effects on Your...</td>\n",
       "    </tr>\n",
       "    <tr>\n",
       "      <th>3677</th>\n",
       "      <td>Using MODX CMS to Build Websites: A Beginner's...</td>\n",
       "    </tr>\n",
       "  </tbody>\n",
       "</table>\n",
       "<p>5269 rows × 1 columns</p>\n",
       "</div>"
      ],
      "text/plain": [
       "                                                 titulo\n",
       "0                                      Machine Learning\n",
       "1                                     Indigenous Canada\n",
       "2                             The Science of Well-Being\n",
       "3                        Technical Support Fundamentals\n",
       "4     Become a CBRS Certified Professional Installer...\n",
       "...                                                 ...\n",
       "3673  Learn jQuery from Scratch - Master of JavaScri...\n",
       "3674  How To Design A WordPress Website With No Codi...\n",
       "3675                      Learn and Build using Polymer\n",
       "3676  CSS Animations: Create Amazing Effects on Your...\n",
       "3677  Using MODX CMS to Build Websites: A Beginner's...\n",
       "\n",
       "[5269 rows x 1 columns]"
      ]
     },
     "execution_count": 94,
     "metadata": {},
     "output_type": "execute_result"
    }
   ],
   "source": [
    "df_words"
   ]
  },
  {
   "cell_type": "code",
   "execution_count": 95,
   "metadata": {},
   "outputs": [],
   "source": [
    "#Genero el texto que tendra todos los titulos, luego lo copio y lo pego en el archivo .txt llamado nube_palabras.txt\n",
    "texto = \" \".join(review for review in df_words.titulo.astype(str))"
   ]
  },
  {
   "cell_type": "code",
   "execution_count": 154,
   "metadata": {},
   "outputs": [],
   "source": [
    "from wordcloud import WordCloud, STOPWORDS"
   ]
  },
  {
   "cell_type": "code",
   "execution_count": 155,
   "metadata": {},
   "outputs": [],
   "source": [
    "text = open(\"nube_palabras.txt\", mode= \"r\", encoding=\"utf-8\").read()"
   ]
  },
  {
   "cell_type": "code",
   "execution_count": 156,
   "metadata": {},
   "outputs": [],
   "source": [
    "stopwords = STOPWORDS"
   ]
  },
  {
   "cell_type": "code",
   "execution_count": 167,
   "metadata": {},
   "outputs": [
    {
     "data": {
      "text/plain": [
       "194"
      ]
     },
     "execution_count": 167,
     "metadata": {},
     "output_type": "execute_result"
    }
   ],
   "source": [
    "#Le agregue a stopwords las palabras Learn y Course para que no las tenga en cuenta en la nube\n",
    "len(stopwords)"
   ]
  },
  {
   "cell_type": "code",
   "execution_count": 168,
   "metadata": {},
   "outputs": [
    {
     "name": "stdout",
     "output_type": "stream",
     "text": [
      "{'my', \"weren't\", 'on', 'if', 'however', 'then', 'ours', 'com', 'up', 'him', 'other', 'ourselves', 'it', \"i've\", 'against', \"haven't\", 'off', 'himself', 'while', \"let's\", \"you'll\", 'hence', 'below', 'r', 'an', 'only', 'down', 'herself', 'should', 'were', 'shall', 'between', 'such', 'how', 'with', 'them', 'you', 'can', 'www', \"she's\", \"hadn't\", 'themselves', 'again', 'and', 'during', 'further', \"they've\", \"aren't\", 'the', 'i', 'have', 'be', 'our', \"i'm\", 'doing', 'itself', 'as', \"we've\", 'whom', 'otherwise', 'nor', \"i'd\", 'by', \"shouldn't\", 'his', \"isn't\", 'here', 'Course', 'for', 'would', 'any', 'been', 'than', \"there's\", \"why's\", 'that', 'into', 'therefore', 'its', 'before', 'your', \"you'd\", 'hers', 'no', 'being', 'she', \"we'll\", 'of', \"we'd\", \"that's\", 'some', \"who's\", \"shan't\", \"she'll\", \"wasn't\", 'ought', \"mustn't\", 'so', 'yourself', \"it's\", 'because', \"what's\", 'each', 'we', \"you're\", 'or', \"don't\", 'few', 'from', 'in', \"wouldn't\", 'having', 'http', 'myself', 'those', 'he', \"can't\", \"he's\", 'where', \"they're\", 'more', \"he'll\", 'after', 'most', \"when's\", 'has', 'Learn', 'what', 'until', 'could', 'which', \"doesn't\", 'very', 'like', \"where's\", 'just', 'at', \"here's\", 'k', 'above', 'is', \"we're\", \"she'd\", 'yours', \"they'd\", 'once', 'there', \"you've\", 'this', \"he'd\", 'they', 'about', 'had', 'does', 'her', 'who', 'are', 'these', \"couldn't\", 'ever', \"hasn't\", 'cannot', 'both', 'under', 'not', 'when', 'why', \"i'll\", 'own', 'to', 'also', 'over', 'a', \"how's\", 'their', 'since', 'out', 'same', 'am', \"didn't\", 'get', 'else', 'was', 'did', 'yourselves', \"they'll\", 'me', \"won't\", 'through', 'theirs', 'all', 'too', 'do', 'but'}\n"
     ]
    }
   ],
   "source": [
    "print(stopwords)"
   ]
  },
  {
   "cell_type": "code",
   "execution_count": 174,
   "metadata": {},
   "outputs": [],
   "source": [
    "wc = WordCloud(background_color=\"white\",\n",
    "stopwords=stopwords,\n",
    " width=800, height=400\n",
    ")"
   ]
  },
  {
   "cell_type": "code",
   "execution_count": 175,
   "metadata": {},
   "outputs": [
    {
     "data": {
      "text/plain": [
       "<wordcloud.wordcloud.WordCloud at 0x2655be649a0>"
      ]
     },
     "execution_count": 175,
     "metadata": {},
     "output_type": "execute_result"
    }
   ],
   "source": [
    "wc.generate(text)"
   ]
  },
  {
   "cell_type": "code",
   "execution_count": 176,
   "metadata": {},
   "outputs": [
    {
     "data": {
      "text/plain": [
       "<wordcloud.wordcloud.WordCloud at 0x2655be649a0>"
      ]
     },
     "execution_count": 176,
     "metadata": {},
     "output_type": "execute_result"
    }
   ],
   "source": [
    "wc.to_file(\"nube_output.png\")"
   ]
  }
 ],
 "metadata": {
  "kernelspec": {
   "display_name": "Python 3",
   "language": "python",
   "name": "python3"
  },
  "language_info": {
   "codemirror_mode": {
    "name": "ipython",
    "version": 3
   },
   "file_extension": ".py",
   "mimetype": "text/x-python",
   "name": "python",
   "nbconvert_exporter": "python",
   "pygments_lexer": "ipython3",
   "version": "3.9.13 (tags/v3.9.13:6de2ca5, May 17 2022, 16:36:42) [MSC v.1929 64 bit (AMD64)]"
  },
  "orig_nbformat": 4,
  "vscode": {
   "interpreter": {
    "hash": "c89dac2000cd39b6c6afdbb40384525553e908a214fa5e3caa43ad6708c415f4"
   }
  }
 },
 "nbformat": 4,
 "nbformat_minor": 2
}
